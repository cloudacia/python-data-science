{
 "cells": [
  {
   "cell_type": "markdown",
   "metadata": {},
   "source": [
    "# Project: Exploring eBay Car Sales Data"
   ]
  },
  {
   "cell_type": "markdown",
   "metadata": {},
   "source": [
    "####  We'll work with a dataset of used cars from eBay Kleinanzeigen, a classifieds section of the German eBay website.\n",
    "\n",
    "#### The dataset was originally scraped and uploaded to Kaggle by user orgesleka. The original dataset isn't available on Kaggle anymore, but you can download it from https://data.world/data-society/used-cars-data).\n",
    "\n",
    "#### The aim of this project is to clean the data and analyze the included used car listings.\n"
   ]
  },
  {
   "cell_type": "markdown",
   "metadata": {},
   "source": [
    "Importing Numpy and Pandas data science libraries"
   ]
  },
  {
   "cell_type": "code",
   "execution_count": 308,
   "metadata": {},
   "outputs": [],
   "source": [
    "import numpy as np\n",
    "import pandas as pd"
   ]
  },
  {
   "cell_type": "markdown",
   "metadata": {},
   "source": [
    "Importing a CSV file into a Pandas dataframe."
   ]
  },
  {
   "cell_type": "code",
   "execution_count": 309,
   "metadata": {},
   "outputs": [],
   "source": [
    "autos = pd.read_csv('autos.csv', encoding='Latin-1')"
   ]
  },
  {
   "cell_type": "markdown",
   "metadata": {},
   "source": [
    "Exploring the first five (5) rows of the dataset"
   ]
  },
  {
   "cell_type": "code",
   "execution_count": 310,
   "metadata": {},
   "outputs": [
    {
     "name": "stdout",
     "output_type": "stream",
     "text": [
      "           dateCrawled                                               name  \\\n",
      "0  2016-03-26 17:47:46                   Peugeot_807_160_NAVTECH_ON_BOARD   \n",
      "1  2016-04-04 13:38:56         BMW_740i_4_4_Liter_HAMANN_UMBAU_Mega_Optik   \n",
      "2  2016-03-26 18:57:24                         Volkswagen_Golf_1.6_United   \n",
      "3  2016-03-12 16:58:10  Smart_smart_fortwo_coupe_softouch/F1/Klima/Pan...   \n",
      "4  2016-04-01 14:38:50  Ford_Focus_1_6_Benzin_TÜV_neu_ist_sehr_gepfleg...   \n",
      "\n",
      "   seller offerType   price   abtest vehicleType  yearOfRegistration  \\\n",
      "0  privat   Angebot  $5,000  control         bus                2004   \n",
      "1  privat   Angebot  $8,500  control   limousine                1997   \n",
      "2  privat   Angebot  $8,990     test   limousine                2009   \n",
      "3  privat   Angebot  $4,350  control  kleinwagen                2007   \n",
      "4  privat   Angebot  $1,350     test       kombi                2003   \n",
      "\n",
      "     gearbox  powerPS   model   odometer  monthOfRegistration fuelType  \\\n",
      "0    manuell      158  andere  150,000km                    3      lpg   \n",
      "1  automatik      286     7er  150,000km                    6   benzin   \n",
      "2    manuell      102    golf   70,000km                    7   benzin   \n",
      "3  automatik       71  fortwo   70,000km                    6   benzin   \n",
      "4    manuell        0   focus  150,000km                    7   benzin   \n",
      "\n",
      "        brand notRepairedDamage          dateCreated  nrOfPictures  \\\n",
      "0     peugeot              nein  2016-03-26 00:00:00             0   \n",
      "1         bmw              nein  2016-04-04 00:00:00             0   \n",
      "2  volkswagen              nein  2016-03-26 00:00:00             0   \n",
      "3       smart              nein  2016-03-12 00:00:00             0   \n",
      "4        ford              nein  2016-04-01 00:00:00             0   \n",
      "\n",
      "   postalCode             lastSeen  \n",
      "0       79588  2016-04-06 06:45:54  \n",
      "1       71034  2016-04-06 14:45:08  \n",
      "2       35394  2016-04-06 20:15:37  \n",
      "3       33729  2016-03-15 03:16:28  \n",
      "4       39218  2016-04-01 14:38:50  \n"
     ]
    }
   ],
   "source": [
    "print(autos.head())"
   ]
  },
  {
   "cell_type": "markdown",
   "metadata": {},
   "source": [
    "Visualizing general information about the DataFrame."
   ]
  },
  {
   "cell_type": "code",
   "execution_count": 311,
   "metadata": {},
   "outputs": [
    {
     "name": "stdout",
     "output_type": "stream",
     "text": [
      "<class 'pandas.core.frame.DataFrame'>\n",
      "RangeIndex: 50000 entries, 0 to 49999\n",
      "Data columns (total 20 columns):\n",
      " #   Column               Non-Null Count  Dtype \n",
      "---  ------               --------------  ----- \n",
      " 0   dateCrawled          50000 non-null  object\n",
      " 1   name                 50000 non-null  object\n",
      " 2   seller               50000 non-null  object\n",
      " 3   offerType            50000 non-null  object\n",
      " 4   price                50000 non-null  object\n",
      " 5   abtest               50000 non-null  object\n",
      " 6   vehicleType          44905 non-null  object\n",
      " 7   yearOfRegistration   50000 non-null  int64 \n",
      " 8   gearbox              47320 non-null  object\n",
      " 9   powerPS              50000 non-null  int64 \n",
      " 10  model                47242 non-null  object\n",
      " 11  odometer             50000 non-null  object\n",
      " 12  monthOfRegistration  50000 non-null  int64 \n",
      " 13  fuelType             45518 non-null  object\n",
      " 14  brand                50000 non-null  object\n",
      " 15  notRepairedDamage    40171 non-null  object\n",
      " 16  dateCreated          50000 non-null  object\n",
      " 17  nrOfPictures         50000 non-null  int64 \n",
      " 18  postalCode           50000 non-null  int64 \n",
      " 19  lastSeen             50000 non-null  object\n",
      "dtypes: int64(5), object(15)\n",
      "memory usage: 7.6+ MB\n",
      "None\n"
     ]
    }
   ],
   "source": [
    "print(autos.info())"
   ]
  },
  {
   "cell_type": "markdown",
   "metadata": {},
   "source": [
    "Printing the name of the columns of the Dataframe."
   ]
  },
  {
   "cell_type": "code",
   "execution_count": 312,
   "metadata": {},
   "outputs": [
    {
     "name": "stdout",
     "output_type": "stream",
     "text": [
      "Index(['dateCrawled', 'name', 'seller', 'offerType', 'price', 'abtest',\n",
      "       'vehicleType', 'yearOfRegistration', 'gearbox', 'powerPS', 'model',\n",
      "       'odometer', 'monthOfRegistration', 'fuelType', 'brand',\n",
      "       'notRepairedDamage', 'dateCreated', 'nrOfPictures', 'postalCode',\n",
      "       'lastSeen'],\n",
      "      dtype='object')\n"
     ]
    }
   ],
   "source": [
    "print(autos.columns)"
   ]
  },
  {
   "cell_type": "markdown",
   "metadata": {},
   "source": [
    "Changing column's names:\n",
    "\n",
    "* yearOfRegistration to registration_year\n",
    "* monthOfRegistration to registration_month\n",
    "* notRepairedDamage to unrepaired_damage\n",
    "* dateCreated to ad_created"
   ]
  },
  {
   "cell_type": "code",
   "execution_count": 313,
   "metadata": {},
   "outputs": [],
   "source": [
    "news_columns = {'yearOfRegistration':'registration_year', 'monthOfRegistration':'registration_month', 'notRepairedDamage':'unrepaired_damage', 'dateCreated':'ad_created'}\n",
    "autos.rename(news_columns, axis=1, inplace=True)"
   ]
  },
  {
   "cell_type": "markdown",
   "metadata": {},
   "source": [
    "Visualizing new column's names"
   ]
  },
  {
   "cell_type": "code",
   "execution_count": 314,
   "metadata": {},
   "outputs": [
    {
     "name": "stdout",
     "output_type": "stream",
     "text": [
      "Index(['dateCrawled', 'name', 'seller', 'offerType', 'price', 'abtest',\n",
      "       'vehicleType', 'registration_year', 'gearbox', 'powerPS', 'model',\n",
      "       'odometer', 'registration_month', 'fuelType', 'brand',\n",
      "       'unrepaired_damage', 'ad_created', 'nrOfPictures', 'postalCode',\n",
      "       'lastSeen'],\n",
      "      dtype='object')\n"
     ]
    }
   ],
   "source": [
    "print(autos.columns)"
   ]
  },
  {
   "cell_type": "markdown",
   "metadata": {},
   "source": [
    "We'll modify the format of the column's name from camelcase to snakecase."
   ]
  },
  {
   "cell_type": "code",
   "execution_count": 315,
   "metadata": {},
   "outputs": [],
   "source": [
    "import re\n",
    "autos.columns = [re.sub(r'(?<!^)(?=[A-Z])', '_', string).lower() for string in autos.columns]"
   ]
  },
  {
   "cell_type": "markdown",
   "metadata": {},
   "source": [
    "Visualizing new column's names"
   ]
  },
  {
   "cell_type": "code",
   "execution_count": 316,
   "metadata": {},
   "outputs": [
    {
     "name": "stdout",
     "output_type": "stream",
     "text": [
      "Index(['date_crawled', 'name', 'seller', 'offer_type', 'price', 'abtest',\n",
      "       'vehicle_type', 'registration_year', 'gearbox', 'power_p_s', 'model',\n",
      "       'odometer', 'registration_month', 'fuel_type', 'brand',\n",
      "       'unrepaired_damage', 'ad_created', 'nr_of_pictures', 'postal_code',\n",
      "       'last_seen'],\n",
      "      dtype='object')\n"
     ]
    }
   ],
   "source": [
    "print(autos.columns)"
   ]
  },
  {
   "cell_type": "markdown",
   "metadata": {},
   "source": [
    "We are looking at the current state of the autos data frame."
   ]
  },
  {
   "cell_type": "code",
   "execution_count": 317,
   "metadata": {},
   "outputs": [
    {
     "name": "stdout",
     "output_type": "stream",
     "text": [
      "          date_crawled                                               name  \\\n",
      "0  2016-03-26 17:47:46                   Peugeot_807_160_NAVTECH_ON_BOARD   \n",
      "1  2016-04-04 13:38:56         BMW_740i_4_4_Liter_HAMANN_UMBAU_Mega_Optik   \n",
      "2  2016-03-26 18:57:24                         Volkswagen_Golf_1.6_United   \n",
      "3  2016-03-12 16:58:10  Smart_smart_fortwo_coupe_softouch/F1/Klima/Pan...   \n",
      "4  2016-04-01 14:38:50  Ford_Focus_1_6_Benzin_TÜV_neu_ist_sehr_gepfleg...   \n",
      "\n",
      "   seller offer_type   price   abtest vehicle_type  registration_year  \\\n",
      "0  privat    Angebot  $5,000  control          bus               2004   \n",
      "1  privat    Angebot  $8,500  control    limousine               1997   \n",
      "2  privat    Angebot  $8,990     test    limousine               2009   \n",
      "3  privat    Angebot  $4,350  control   kleinwagen               2007   \n",
      "4  privat    Angebot  $1,350     test        kombi               2003   \n",
      "\n",
      "     gearbox  power_p_s   model   odometer  registration_month fuel_type  \\\n",
      "0    manuell        158  andere  150,000km                   3       lpg   \n",
      "1  automatik        286     7er  150,000km                   6    benzin   \n",
      "2    manuell        102    golf   70,000km                   7    benzin   \n",
      "3  automatik         71  fortwo   70,000km                   6    benzin   \n",
      "4    manuell          0   focus  150,000km                   7    benzin   \n",
      "\n",
      "        brand unrepaired_damage           ad_created  nr_of_pictures  \\\n",
      "0     peugeot              nein  2016-03-26 00:00:00               0   \n",
      "1         bmw              nein  2016-04-04 00:00:00               0   \n",
      "2  volkswagen              nein  2016-03-26 00:00:00               0   \n",
      "3       smart              nein  2016-03-12 00:00:00               0   \n",
      "4        ford              nein  2016-04-01 00:00:00               0   \n",
      "\n",
      "   postal_code            last_seen  \n",
      "0        79588  2016-04-06 06:45:54  \n",
      "1        71034  2016-04-06 14:45:08  \n",
      "2        35394  2016-04-06 20:15:37  \n",
      "3        33729  2016-03-15 03:16:28  \n",
      "4        39218  2016-04-01 14:38:50  \n"
     ]
    }
   ],
   "source": [
    "print(autos.head())"
   ]
  },
  {
   "cell_type": "markdown",
   "metadata": {},
   "source": [
    "We are checking the descriptive statistics for all columns."
   ]
  },
  {
   "cell_type": "code",
   "execution_count": 318,
   "metadata": {},
   "outputs": [
    {
     "name": "stdout",
     "output_type": "stream",
     "text": [
      "       registration_year     power_p_s  registration_month  nr_of_pictures  \\\n",
      "count       50000.000000  50000.000000        50000.000000         50000.0   \n",
      "mean         2005.073280    116.355920            5.723360             0.0   \n",
      "std           105.712813    209.216627            3.711984             0.0   \n",
      "min          1000.000000      0.000000            0.000000             0.0   \n",
      "25%          1999.000000     70.000000            3.000000             0.0   \n",
      "50%          2003.000000    105.000000            6.000000             0.0   \n",
      "75%          2008.000000    150.000000            9.000000             0.0   \n",
      "max          9999.000000  17700.000000           12.000000             0.0   \n",
      "\n",
      "        postal_code  \n",
      "count  50000.000000  \n",
      "mean   50813.627300  \n",
      "std    25779.747957  \n",
      "min     1067.000000  \n",
      "25%    30451.000000  \n",
      "50%    49577.000000  \n",
      "75%    71540.000000  \n",
      "max    99998.000000  \n"
     ]
    }
   ],
   "source": [
    "print(autos.describe())"
   ]
  },
  {
   "cell_type": "markdown",
   "metadata": {},
   "source": [
    "Based on the command's output, it seems that the column \"nr_of_pictures\" contains only one value. So, it is a candidate to be dropped from the dataset because it doesn't add value to our analysis."
   ]
  },
  {
   "cell_type": "markdown",
   "metadata": {},
   "source": [
    "Precisely, the output below shows one value available:"
   ]
  },
  {
   "cell_type": "code",
   "execution_count": 319,
   "metadata": {},
   "outputs": [
    {
     "name": "stdout",
     "output_type": "stream",
     "text": [
      "[0]\n"
     ]
    }
   ],
   "source": [
    "print(autos['nr_of_pictures'].unique())"
   ]
  },
  {
   "cell_type": "markdown",
   "metadata": {},
   "source": [
    "Any columns that have mostly one value that are candidates to be dropped.\n",
    "Any columns that need more investigation.\n",
    "Any examples of numeric data stored as text that needs to be cleaned."
   ]
  },
  {
   "cell_type": "markdown",
   "metadata": {},
   "source": [
    "Show the current number of rows and columns."
   ]
  },
  {
   "cell_type": "code",
   "execution_count": 320,
   "metadata": {},
   "outputs": [
    {
     "name": "stdout",
     "output_type": "stream",
     "text": [
      "(50000, 20)\n"
     ]
    }
   ],
   "source": [
    "print(autos.shape)"
   ]
  },
  {
   "cell_type": "markdown",
   "metadata": {},
   "source": [
    "We are deleting column \"nr_of_pictures\" from the autos data frame."
   ]
  },
  {
   "cell_type": "code",
   "execution_count": 321,
   "metadata": {},
   "outputs": [],
   "source": [
    "autos.drop(columns=['nr_of_pictures'], inplace=True)"
   ]
  },
  {
   "cell_type": "markdown",
   "metadata": {},
   "source": [
    "Show the current number of rows and columns after deleting the column \"nr_of_pictures\"."
   ]
  },
  {
   "cell_type": "code",
   "execution_count": 322,
   "metadata": {},
   "outputs": [
    {
     "name": "stdout",
     "output_type": "stream",
     "text": [
      "(50000, 19)\n"
     ]
    }
   ],
   "source": [
    "print(autos.shape)"
   ]
  },
  {
   "cell_type": "markdown",
   "metadata": {},
   "source": [
    "The columns ['price', 'odometer'] are number values stored as text, as shown below:"
   ]
  },
  {
   "cell_type": "code",
   "execution_count": 323,
   "metadata": {},
   "outputs": [
    {
     "name": "stdout",
     "output_type": "stream",
     "text": [
      "date_crawled          object\n",
      "name                  object\n",
      "seller                object\n",
      "offer_type            object\n",
      "price                 object\n",
      "abtest                object\n",
      "vehicle_type          object\n",
      "registration_year      int64\n",
      "gearbox               object\n",
      "power_p_s              int64\n",
      "model                 object\n",
      "odometer              object\n",
      "registration_month     int64\n",
      "fuel_type             object\n",
      "brand                 object\n",
      "unrepaired_damage     object\n",
      "ad_created            object\n",
      "postal_code            int64\n",
      "last_seen             object\n",
      "dtype: object\n"
     ]
    }
   ],
   "source": [
    "print(autos.dtypes)"
   ]
  },
  {
   "cell_type": "markdown",
   "metadata": {},
   "source": [
    "To convert ['price', 'odometer'] , we'll perform the following actions:\n",
    "\n",
    "* Remove any non-numeric characters\n",
    "* Convert the column to a numeric dtype"
   ]
  },
  {
   "cell_type": "code",
   "execution_count": 324,
   "metadata": {},
   "outputs": [
    {
     "name": "stdout",
     "output_type": "stream",
     "text": [
      "0    $5,000\n",
      "1    $8,500\n",
      "2    $8,990\n",
      "3    $4,350\n",
      "4    $1,350\n",
      "Name: price, dtype: object\n"
     ]
    }
   ],
   "source": [
    "print(autos['price'].head())"
   ]
  },
  {
   "cell_type": "markdown",
   "metadata": {},
   "source": [
    "We are removing the dollar sign character ($) and comma (,) from the values stored in the column \"price\". Then, converting the values from the object (string) to integer (int)."
   ]
  },
  {
   "cell_type": "code",
   "execution_count": 325,
   "metadata": {},
   "outputs": [],
   "source": [
    "autos['price'] = autos['price'].str.replace('$', '').str.replace(',','').astype(int)"
   ]
  },
  {
   "cell_type": "markdown",
   "metadata": {},
   "source": [
    "Verifying that the changes have been done correctly:"
   ]
  },
  {
   "cell_type": "code",
   "execution_count": 326,
   "metadata": {},
   "outputs": [
    {
     "name": "stdout",
     "output_type": "stream",
     "text": [
      "date_crawled          object\n",
      "name                  object\n",
      "seller                object\n",
      "offer_type            object\n",
      "price                  int64\n",
      "abtest                object\n",
      "vehicle_type          object\n",
      "registration_year      int64\n",
      "gearbox               object\n",
      "power_p_s              int64\n",
      "model                 object\n",
      "odometer              object\n",
      "registration_month     int64\n",
      "fuel_type             object\n",
      "brand                 object\n",
      "unrepaired_damage     object\n",
      "ad_created            object\n",
      "postal_code            int64\n",
      "last_seen             object\n",
      "dtype: object\n"
     ]
    }
   ],
   "source": [
    "print(autos.dtypes)"
   ]
  },
  {
   "cell_type": "markdown",
   "metadata": {},
   "source": [
    "In the \"odometer\" column , we'll perform the following actions:\n",
    "\n",
    "* Remove any non-numeric characters\n",
    "* Convert the column to a numeric dtype"
   ]
  },
  {
   "cell_type": "code",
   "execution_count": 327,
   "metadata": {},
   "outputs": [
    {
     "name": "stdout",
     "output_type": "stream",
     "text": [
      "0    150,000km\n",
      "1    150,000km\n",
      "2     70,000km\n",
      "3     70,000km\n",
      "4    150,000km\n",
      "Name: odometer, dtype: object\n"
     ]
    }
   ],
   "source": [
    "print(autos['odometer'].head())"
   ]
  },
  {
   "cell_type": "markdown",
   "metadata": {},
   "source": [
    "We are removing \"km\" characters and comma (,) from the values stored in the column \"odometer\". Then, converting the values from the object (string) to integer (int)."
   ]
  },
  {
   "cell_type": "code",
   "execution_count": 328,
   "metadata": {},
   "outputs": [],
   "source": [
    "autos['odometer'] = autos['odometer'].str.replace('km', '').str.replace(',', '').astype(int)"
   ]
  },
  {
   "cell_type": "markdown",
   "metadata": {},
   "source": [
    "We change the column's name odometer to odometer_km."
   ]
  },
  {
   "cell_type": "code",
   "execution_count": 329,
   "metadata": {},
   "outputs": [],
   "source": [
    "autos.rename({'odometer':'odometer_km'}, axis=1, inplace=True)"
   ]
  },
  {
   "cell_type": "markdown",
   "metadata": {},
   "source": [
    "Verifying that the changes have been done correctly:"
   ]
  },
  {
   "cell_type": "code",
   "execution_count": 330,
   "metadata": {},
   "outputs": [
    {
     "name": "stdout",
     "output_type": "stream",
     "text": [
      "date_crawled          object\n",
      "name                  object\n",
      "seller                object\n",
      "offer_type            object\n",
      "price                  int64\n",
      "abtest                object\n",
      "vehicle_type          object\n",
      "registration_year      int64\n",
      "gearbox               object\n",
      "power_p_s              int64\n",
      "model                 object\n",
      "odometer_km            int64\n",
      "registration_month     int64\n",
      "fuel_type             object\n",
      "brand                 object\n",
      "unrepaired_damage     object\n",
      "ad_created            object\n",
      "postal_code            int64\n",
      "last_seen             object\n",
      "dtype: object\n"
     ]
    }
   ],
   "source": [
    "print(autos.dtypes)"
   ]
  },
  {
   "cell_type": "markdown",
   "metadata": {},
   "source": [
    "Let's continue exploring the data, specifically looking for data that doesn't look right. We'll start by analyzing the odometer_km and price columns. \n",
    "\n",
    "Analyze the columns using minimum and maximum values and look for any values that look unrealistically high or low (outliers) that we might want to remove"
   ]
  },
  {
   "cell_type": "markdown",
   "metadata": {},
   "source": [
    "Discover how many values are in the column."
   ]
  },
  {
   "cell_type": "code",
   "execution_count": 331,
   "metadata": {},
   "outputs": [
    {
     "name": "stdout",
     "output_type": "stream",
     "text": [
      "(50000,)\n",
      "(50000,)\n"
     ]
    }
   ],
   "source": [
    "print(autos['price'].shape)\n",
    "print(autos['odometer_km'].shape)"
   ]
  },
  {
   "cell_type": "markdown",
   "metadata": {},
   "source": [
    "View min/max/median/mean without scientific notation"
   ]
  },
  {
   "cell_type": "code",
   "execution_count": 332,
   "metadata": {},
   "outputs": [
    {
     "name": "stdout",
     "output_type": "stream",
     "text": [
      "count       50000.000000\n",
      "mean         9840.043760\n",
      "std        481104.380500\n",
      "min             0.000000\n",
      "25%          1100.000000\n",
      "50%          2950.000000\n",
      "75%          7200.000000\n",
      "max      99999999.000000\n",
      "Name: price, dtype: object\n"
     ]
    }
   ],
   "source": [
    "print(autos['price'].describe().apply(lambda x: format(x, 'f')))"
   ]
  },
  {
   "cell_type": "markdown",
   "metadata": {},
   "source": [
    "View min/max/median/mean without scientific notation"
   ]
  },
  {
   "cell_type": "code",
   "execution_count": 333,
   "metadata": {},
   "outputs": [
    {
     "name": "stdout",
     "output_type": "stream",
     "text": [
      "count     50000.000000\n",
      "mean     125732.700000\n",
      "std       40042.211706\n",
      "min        5000.000000\n",
      "25%      125000.000000\n",
      "50%      150000.000000\n",
      "75%      150000.000000\n",
      "max      150000.000000\n",
      "Name: odometer_km, dtype: object\n"
     ]
    }
   ],
   "source": [
    "print(autos['odometer_km'].describe().apply(lambda x: format(x, 'f')))"
   ]
  },
  {
   "cell_type": "markdown",
   "metadata": {},
   "source": [
    "Getting a count of unique values:"
   ]
  },
  {
   "cell_type": "code",
   "execution_count": 334,
   "metadata": {},
   "outputs": [
    {
     "name": "stdout",
     "output_type": "stream",
     "text": [
      "0       1421\n",
      "500      781\n",
      "1500     734\n",
      "2500     643\n",
      "1000     639\n",
      "Name: price, dtype: int64\n"
     ]
    }
   ],
   "source": [
    "print(autos['price'].value_counts().head())"
   ]
  },
  {
   "cell_type": "markdown",
   "metadata": {},
   "source": [
    "Getting a count of unique values:"
   ]
  },
  {
   "cell_type": "code",
   "execution_count": 335,
   "metadata": {},
   "outputs": [
    {
     "name": "stdout",
     "output_type": "stream",
     "text": [
      "150000    32424\n",
      "125000     5170\n",
      "100000     2169\n",
      "90000      1757\n",
      "80000      1436\n",
      "Name: odometer_km, dtype: int64\n"
     ]
    }
   ],
   "source": [
    "print(autos['odometer_km'].value_counts().head())"
   ]
  },
  {
   "cell_type": "markdown",
   "metadata": {},
   "source": [
    "The function below takes a data frame and a string (column name) as input. Then, it removes from the Series (column ), returning a clean data frame. See http://www.itl.nist.gov/div898/handbook/prc/section1/prc16.htm\n",
    "\n",
    "I took the function's code from this URL:\n",
    "\n",
    "https://stackoverflow.com/questions/23199796/detect-and-exclude-outliers-in-a-pandas-dataframe"
   ]
  },
  {
   "cell_type": "code",
   "execution_count": 336,
   "metadata": {},
   "outputs": [],
   "source": [
    "def remove_outlier(df_in, col_name):\n",
    "    q1 = df_in[col_name].quantile(0.25)\n",
    "    q3 = df_in[col_name].quantile(0.75)\n",
    "    iqr = q3-q1 #Interquartile range\n",
    "    fence_low  = q1-1.5*iqr\n",
    "    fence_high = q3+1.5*iqr\n",
    "    df_out = df_in.loc[(df_in[col_name] > fence_low) & (df_in[col_name] < fence_high)]\n",
    "    return df_out"
   ]
  },
  {
   "cell_type": "markdown",
   "metadata": {},
   "source": [
    "We are removing outliers from the \"price\" column."
   ]
  },
  {
   "cell_type": "code",
   "execution_count": 337,
   "metadata": {},
   "outputs": [],
   "source": [
    "autos_non_outliers = remove_outlier(autos, 'price')"
   ]
  },
  {
   "cell_type": "code",
   "execution_count": 338,
   "metadata": {},
   "outputs": [
    {
     "name": "stdout",
     "output_type": "stream",
     "text": [
      "The new dataframe 46207.\n"
     ]
    }
   ],
   "source": [
    "print(\"The new dataframe {rows}.\".format(rows=autos_non_outliers.shape[0]))"
   ]
  },
  {
   "cell_type": "markdown",
   "metadata": {},
   "source": [
    "We are removing outliers from the \"odometer_km\" column."
   ]
  },
  {
   "cell_type": "code",
   "execution_count": 339,
   "metadata": {},
   "outputs": [],
   "source": [
    "autos_non_outliers = remove_outlier(autos, 'odometer_km')"
   ]
  },
  {
   "cell_type": "code",
   "execution_count": 340,
   "metadata": {},
   "outputs": [
    {
     "name": "stdout",
     "output_type": "stream",
     "text": [
      "The new dataframe 41520.\n"
     ]
    }
   ],
   "source": [
    "print(\"The new dataframe {rows}.\".format(rows=autos_non_outliers.shape[0]))"
   ]
  },
  {
   "cell_type": "markdown",
   "metadata": {},
   "source": [
    "There are 5 columns that should represent date values. Some of these columns were created by the crawler, some came from the website itself.\n",
    "\n",
    "Right now, the date_crawled, last_seen, and ad_created columns are all identified as string values by pandas. Because these three columns are represented as strings, we need to convert the data into a numerical representation so we can understand it quantitatively. The other two columns are represented as numeric values, so we can use methods like Series.describe() to understand the distribution without any extra data processing."
   ]
  },
  {
   "cell_type": "markdown",
   "metadata": {},
   "source": [
    "Let's first understand how the values in the three string columns are formatted. These columns all represent full timestamp values, like so:"
   ]
  },
  {
   "cell_type": "code",
   "execution_count": 341,
   "metadata": {},
   "outputs": [
    {
     "name": "stdout",
     "output_type": "stream",
     "text": [
      "          date_crawled           ad_created            last_seen\n",
      "0  2016-03-26 17:47:46  2016-03-26 00:00:00  2016-04-06 06:45:54\n",
      "1  2016-04-04 13:38:56  2016-04-04 00:00:00  2016-04-06 14:45:08\n",
      "4  2016-04-01 14:38:50  2016-04-01 00:00:00  2016-04-01 14:38:50\n",
      "5  2016-03-21 13:47:45  2016-03-21 00:00:00  2016-04-06 09:45:21\n",
      "6  2016-03-20 17:55:21  2016-03-20 00:00:00  2016-03-23 02:48:59\n"
     ]
    }
   ],
   "source": [
    "print(autos_non_outliers[['date_crawled','ad_created','last_seen']][0:5])"
   ]
  },
  {
   "cell_type": "markdown",
   "metadata": {},
   "source": [
    "We'll calculate the distribution of values in the date_crawled, ad_created, and last_seen columns (all string columns) as percentages."
   ]
  },
  {
   "cell_type": "markdown",
   "metadata": {},
   "source": [
    "Checking the distribution of date_crawled column:"
   ]
  },
  {
   "cell_type": "code",
   "execution_count": 342,
   "metadata": {},
   "outputs": [
    {
     "name": "stdout",
     "output_type": "stream",
     "text": [
      "2016-03-05    0.024639\n",
      "2016-03-06    0.014090\n",
      "2016-03-07    0.036199\n",
      "2016-03-08    0.034128\n",
      "2016-03-09    0.033911\n",
      "2016-03-10    0.032177\n",
      "2016-03-11    0.032201\n",
      "2016-03-12    0.037042\n",
      "2016-03-13    0.014981\n",
      "2016-03-14    0.036850\n",
      "2016-03-15    0.033960\n",
      "2016-03-16    0.029528\n",
      "2016-03-17    0.031961\n",
      "2016-03-18    0.013247\n",
      "2016-03-19    0.033863\n",
      "2016-03-20    0.037620\n",
      "2016-03-21    0.037572\n",
      "2016-03-22    0.032828\n",
      "2016-03-23    0.032539\n",
      "2016-03-24    0.028926\n",
      "2016-03-25    0.032394\n",
      "2016-03-26    0.032322\n",
      "2016-03-27    0.031214\n",
      "2016-03-28    0.034706\n",
      "2016-03-29    0.033839\n",
      "2016-03-30    0.033815\n",
      "2016-03-31    0.032009\n",
      "2016-04-01    0.033454\n",
      "2016-04-02    0.034995\n",
      "2016-04-03    0.038102\n",
      "2016-04-04    0.036729\n",
      "2016-04-05    0.013512\n",
      "2016-04-06    0.003444\n",
      "2016-04-07    0.001204\n",
      "Name: date_crawled, dtype: float64\n"
     ]
    }
   ],
   "source": [
    "print(autos_non_outliers['date_crawled'].str[:10].value_counts(normalize=True, dropna=False).sort_index())"
   ]
  },
  {
   "cell_type": "markdown",
   "metadata": {},
   "source": [
    "Checking the distribution of ad_created column:"
   ]
  },
  {
   "cell_type": "code",
   "execution_count": 343,
   "metadata": {},
   "outputs": [
    {
     "name": "stdout",
     "output_type": "stream",
     "text": [
      "2015-12-05    0.000024\n",
      "2015-12-30    0.000024\n",
      "2016-01-03    0.000024\n",
      "2016-01-07    0.000024\n",
      "2016-01-10    0.000048\n",
      "                ...   \n",
      "2016-04-03    0.038367\n",
      "2016-04-04    0.037283\n",
      "2016-04-05    0.012115\n",
      "2016-04-06    0.003468\n",
      "2016-04-07    0.001108\n",
      "Name: ad_created, Length: 70, dtype: float64\n"
     ]
    }
   ],
   "source": [
    "print(autos_non_outliers['ad_created'].str[:10].value_counts(normalize=True, dropna=False).sort_index())"
   ]
  },
  {
   "cell_type": "markdown",
   "metadata": {},
   "source": [
    "Checking the distribution of last_seen column:"
   ]
  },
  {
   "cell_type": "code",
   "execution_count": 344,
   "metadata": {},
   "outputs": [
    {
     "name": "stdout",
     "output_type": "stream",
     "text": [
      "2016-03-05    0.001084\n",
      "2016-03-06    0.004697\n",
      "2016-03-07    0.005829\n",
      "2016-03-08    0.008333\n",
      "2016-03-09    0.010356\n",
      "2016-03-10    0.011079\n",
      "2016-03-11    0.013463\n",
      "2016-03-12    0.025072\n",
      "2016-03-13    0.009369\n",
      "2016-03-14    0.013223\n",
      "2016-03-15    0.016305\n",
      "2016-03-16    0.017100\n",
      "2016-03-17    0.029359\n",
      "2016-03-18    0.007346\n",
      "2016-03-19    0.016522\n",
      "2016-03-20    0.021821\n",
      "2016-03-21    0.021580\n",
      "2016-03-22    0.022110\n",
      "2016-03-23    0.019147\n",
      "2016-03-24    0.020520\n",
      "2016-03-25    0.020087\n",
      "2016-03-26    0.017389\n",
      "2016-03-27    0.016618\n",
      "2016-03-28    0.021821\n",
      "2016-03-29    0.022856\n",
      "2016-03-30    0.024880\n",
      "2016-03-31    0.024422\n",
      "2016-04-01    0.023988\n",
      "2016-04-02    0.025530\n",
      "2016-04-03    0.025506\n",
      "2016-04-04    0.024904\n",
      "2016-04-05    0.119701\n",
      "2016-04-06    0.212620\n",
      "2016-04-07    0.125361\n",
      "Name: last_seen, dtype: float64\n"
     ]
    }
   ],
   "source": [
    "print(autos_non_outliers['last_seen'].str[:10].value_counts(normalize=True, dropna=False).sort_index())"
   ]
  },
  {
   "cell_type": "markdown",
   "metadata": {},
   "source": [
    "Understanding the distributon of registration_year column:"
   ]
  },
  {
   "cell_type": "code",
   "execution_count": 345,
   "metadata": {},
   "outputs": [
    {
     "name": "stdout",
     "output_type": "stream",
     "text": [
      "count    41520.000000\n",
      "mean      2002.820111\n",
      "std         35.023528\n",
      "min       1910.000000\n",
      "25%       1999.000000\n",
      "50%       2003.000000\n",
      "75%       2007.000000\n",
      "max       9000.000000\n",
      "Name: registration_year, dtype: float64\n"
     ]
    }
   ],
   "source": [
    "print(autos_non_outliers['registration_year'].describe())"
   ]
  },
  {
   "cell_type": "code",
   "execution_count": 346,
   "metadata": {},
   "outputs": [
    {
     "name": "stdout",
     "output_type": "stream",
     "text": [
      "The dataset contains 0 cars registered on the date before 1900\n"
     ]
    }
   ],
   "source": [
    "print(\"The dataset contains {quantity} cars registered on the date before 1900\".format(quantity=autos_non_outliers[autos_non_outliers['registration_year'] < 1900].shape[0]))"
   ]
  },
  {
   "cell_type": "code",
   "execution_count": 347,
   "metadata": {},
   "outputs": [
    {
     "name": "stdout",
     "output_type": "stream",
     "text": [
      "The dataset contains 1725 cars registered on the date after 2016\n"
     ]
    }
   ],
   "source": [
    "print(\"The dataset contains {quantity} cars registered on the date after 2016\".format(quantity=autos_non_outliers[autos_non_outliers['registration_year'] > 2016].shape[0]))"
   ]
  },
  {
   "cell_type": "markdown",
   "metadata": {},
   "source": [
    "We are removing rows where column registration_year is greater than the year 2016."
   ]
  },
  {
   "cell_type": "code",
   "execution_count": 348,
   "metadata": {},
   "outputs": [],
   "source": [
    "autos_non_outliers_2 = autos_non_outliers.drop(autos_non_outliers[autos_non_outliers['registration_year'] < 1900].index)"
   ]
  },
  {
   "cell_type": "code",
   "execution_count": 349,
   "metadata": {},
   "outputs": [
    {
     "name": "stdout",
     "output_type": "stream",
     "text": [
      "The new dataset contains 41520 rows after removing rows where registration_year column is greater than the year 2016\n"
     ]
    }
   ],
   "source": [
    "print(\"The new dataset contains {quantity} rows after removing rows where registration_year column is greater than the year 2016\".format(quantity=autos_non_outliers_2.shape[0]))"
   ]
  },
  {
   "cell_type": "markdown",
   "metadata": {},
   "source": [
    "Reviewing the distribution of the column \"registration_year\" (normalized)"
   ]
  },
  {
   "cell_type": "code",
   "execution_count": 350,
   "metadata": {},
   "outputs": [
    {
     "name": "stdout",
     "output_type": "stream",
     "text": [
      "2000    0.075193\n",
      "1999    0.068882\n",
      "2005    0.066113\n",
      "2003    0.062042\n",
      "2001    0.061826\n",
      "          ...   \n",
      "9000    0.000024\n",
      "1937    0.000024\n",
      "1962    0.000024\n",
      "1957    0.000024\n",
      "1943    0.000024\n",
      "Name: registration_year, Length: 73, dtype: float64\n"
     ]
    }
   ],
   "source": [
    "print(autos_non_outliers_2['registration_year'].value_counts(normalize=True))"
   ]
  },
  {
   "cell_type": "markdown",
   "metadata": {},
   "source": [
    "Determining how many brands of cars are in our dataset."
   ]
  },
  {
   "cell_type": "code",
   "execution_count": 351,
   "metadata": {},
   "outputs": [
    {
     "name": "stdout",
     "output_type": "stream",
     "text": [
      "['peugeot' 'bmw' 'ford' 'chrysler' 'volkswagen' 'seat' 'renault'\n",
      " 'mercedes_benz' 'audi' 'opel' 'mazda' 'porsche' 'mini' 'toyota' 'nissan'\n",
      " 'jeep' 'dacia' 'saab' 'volvo' 'mitsubishi' 'fiat' 'skoda' 'subaru' 'kia'\n",
      " 'sonstige_autos' 'citroen' 'smart' 'hyundai' 'chevrolet' 'honda' 'daewoo'\n",
      " 'suzuki' 'jaguar' 'land_rover' 'alfa_romeo' 'lada' 'rover' 'trabant'\n",
      " 'daihatsu' 'lancia']\n"
     ]
    }
   ],
   "source": [
    "print(autos_non_outliers_2['brand'].unique())"
   ]
  },
  {
   "cell_type": "code",
   "execution_count": 352,
   "metadata": {},
   "outputs": [
    {
     "name": "stdout",
     "output_type": "stream",
     "text": [
      "Our dataset contains a total of 40 unique brands\n"
     ]
    }
   ],
   "source": [
    "print(\"Our dataset contains a total of {quantity} unique brands\".format(quantity=len(autos_non_outliers_2['brand'].unique())))"
   ]
  },
  {
   "cell_type": "markdown",
   "metadata": {},
   "source": [
    "Explorng the top 20 brands of cars registered in the dataset"
   ]
  },
  {
   "cell_type": "code",
   "execution_count": 353,
   "metadata": {},
   "outputs": [
    {
     "name": "stdout",
     "output_type": "stream",
     "text": [
      "volkswagen       9097\n",
      "bmw              4804\n",
      "opel             4736\n",
      "mercedes_benz    4096\n",
      "audi             3653\n",
      "ford             2856\n",
      "renault          2078\n",
      "peugeot          1233\n",
      "fiat             1014\n",
      "seat              755\n",
      "mazda             630\n",
      "nissan            591\n",
      "skoda             559\n",
      "citroen           553\n",
      "toyota            464\n",
      "smart             447\n",
      "volvo             423\n",
      "mitsubishi        342\n",
      "hyundai           324\n",
      "honda             324\n",
      "Name: brand, dtype: int64\n"
     ]
    }
   ],
   "source": [
    "print(autos_non_outliers_2['brand'].value_counts().sort_values(ascending=False).head(20))"
   ]
  },
  {
   "cell_type": "markdown",
   "metadata": {},
   "source": [
    "Storing Top 20 brands object (Pandas Series) in a variable and converting it to a Python list.\n"
   ]
  },
  {
   "cell_type": "code",
   "execution_count": 354,
   "metadata": {},
   "outputs": [],
   "source": [
    "top_20_brands = autos_non_outliers_2['brand'].value_counts().sort_values(ascending=False).head(20)\n",
    "top_20_brands_list = list(top_20_brands.index)"
   ]
  },
  {
   "cell_type": "markdown",
   "metadata": {},
   "source": [
    "Visualizing the content of top_20_brands list."
   ]
  },
  {
   "cell_type": "code",
   "execution_count": 355,
   "metadata": {},
   "outputs": [
    {
     "name": "stdout",
     "output_type": "stream",
     "text": [
      "['volkswagen', 'bmw', 'opel', 'mercedes_benz', 'audi', 'ford', 'renault', 'peugeot', 'fiat', 'seat', 'mazda', 'nissan', 'skoda', 'citroen', 'toyota', 'smart', 'volvo', 'mitsubishi', 'hyundai', 'honda']\n"
     ]
    }
   ],
   "source": [
    "print(top_20_brands_list)"
   ]
  },
  {
   "cell_type": "markdown",
   "metadata": {},
   "source": [
    "We are using a dictionary \"mean_price_by_brand\" to aggregate the data of each brand and its mean price."
   ]
  },
  {
   "cell_type": "code",
   "execution_count": 356,
   "metadata": {},
   "outputs": [],
   "source": [
    "mean_price_by_brand = dict()\n",
    "for brand in top_20_brands_list:\n",
    "    df = autos_non_outliers_2[autos_non_outliers_2['brand'] == brand]\n",
    "    mean_price = df['price'].mean()\n",
    "    mean_price_by_brand[brand] = round(mean_price)"
   ]
  },
  {
   "cell_type": "markdown",
   "metadata": {},
   "source": [
    "Below, you can see the information about each brand and its median price."
   ]
  },
  {
   "cell_type": "code",
   "execution_count": 357,
   "metadata": {},
   "outputs": [
    {
     "name": "stdout",
     "output_type": "stream",
     "text": [
      "{'volkswagen': 5384.0, 'bmw': 6881.0, 'opel': 4802.0, 'mercedes_benz': 31015.0, 'audi': 6670.0, 'ford': 2937.0, 'renault': 1762.0, 'peugeot': 2341.0, 'fiat': 14097.0, 'seat': 2918.0, 'mazda': 2786.0, 'nissan': 3106.0, 'skoda': 4805.0, 'citroen': 2910.0, 'toyota': 3950.0, 'smart': 2443.0, 'volvo': 33347.0, 'mitsubishi': 2489.0, 'hyundai': 3689.0, 'honda': 2963.0}\n"
     ]
    }
   ],
   "source": [
    "print(mean_price_by_brand)"
   ]
  },
  {
   "cell_type": "markdown",
   "metadata": {},
   "source": [
    "Below, you can see the top 6 most expensive brands"
   ]
  },
  {
   "cell_type": "code",
   "execution_count": 358,
   "metadata": {},
   "outputs": [
    {
     "data": {
      "text/plain": [
       "['volvo', 'mercedes_benz', 'fiat', 'bmw', 'audi', 'volkswagen']"
      ]
     },
     "execution_count": 358,
     "metadata": {},
     "output_type": "execute_result"
    }
   ],
   "source": [
    "sorted(mean_price_by_brand, key=mean_price_by_brand.get, reverse=True)[:6]"
   ]
  },
  {
   "cell_type": "markdown",
   "metadata": {},
   "source": [
    "Below, you can see the top  cheapest brands of cars."
   ]
  },
  {
   "cell_type": "code",
   "execution_count": 359,
   "metadata": {},
   "outputs": [
    {
     "data": {
      "text/plain": [
       "['renault', 'peugeot', 'smart', 'mitsubishi', 'mazda', 'citroen']"
      ]
     },
     "execution_count": 359,
     "metadata": {},
     "output_type": "execute_result"
    }
   ],
   "source": [
    "sorted(mean_price_by_brand, key=mean_price_by_brand.get, reverse=False)[:6]"
   ]
  },
  {
   "cell_type": "code",
   "execution_count": 360,
   "metadata": {},
   "outputs": [
    {
     "name": "stdout",
     "output_type": "stream",
     "text": [
      "The most expensive brand is volvo\n"
     ]
    }
   ],
   "source": [
    "print(\"The most expensive brand is {brand}\".format(brand=sorted(mean_price_by_brand, key=mean_price_by_brand.get, reverse=True)[0]))"
   ]
  },
  {
   "cell_type": "code",
   "execution_count": 361,
   "metadata": {},
   "outputs": [
    {
     "name": "stdout",
     "output_type": "stream",
     "text": [
      "The most cheapest brand is renault\n"
     ]
    }
   ],
   "source": [
    "print(\"The most cheapest brand is {brand}\".format(brand=sorted(mean_price_by_brand, key=mean_price_by_brand.get, reverse=False)[0]))"
   ]
  },
  {
   "cell_type": "markdown",
   "metadata": {},
   "source": [
    "We are using a dictionary \"mean_mileage_by_brand\" to aggregate the data of each brand and its mean mileage (odometer_km column)."
   ]
  },
  {
   "cell_type": "code",
   "execution_count": 362,
   "metadata": {},
   "outputs": [],
   "source": [
    "mean_mileage_by_brand = dict()\n",
    "for brand in top_20_brands_list:\n",
    "    df = autos_non_outliers_2[autos_non_outliers_2['brand'] == brand]\n",
    "    mean_odometer_km = df['odometer_km'].mean()\n",
    "    mean_mileage_by_brand[brand] = round(mean_odometer_km)"
   ]
  },
  {
   "cell_type": "markdown",
   "metadata": {},
   "source": [
    "Below, you can see the information about each brand and its median mileage."
   ]
  },
  {
   "cell_type": "code",
   "execution_count": 363,
   "metadata": {},
   "outputs": [
    {
     "name": "stdout",
     "output_type": "stream",
     "text": [
      "{'volkswagen': 143399.0, 'bmw': 143649.0, 'opel': 142122.0, 'mercedes_benz': 143705.0, 'audi': 144243.0, 'ford': 140499.0, 'renault': 141006.0, 'peugeot': 140458.0, 'fiat': 137027.0, 'seat': 139848.0, 'mazda': 140944.0, 'nissan': 137733.0, 'skoda': 136530.0, 'citroen': 137667.0, 'toyota': 136875.0, 'smart': 127975.0, 'volvo': 145757.0, 'mitsubishi': 141462.0, 'hyundai': 134985.0, 'honda': 140648.0}\n"
     ]
    }
   ],
   "source": [
    "print(mean_mileage_by_brand)"
   ]
  },
  {
   "cell_type": "markdown",
   "metadata": {},
   "source": [
    "Below, you can see the top 6 brands with more mileage"
   ]
  },
  {
   "cell_type": "code",
   "execution_count": 364,
   "metadata": {},
   "outputs": [
    {
     "data": {
      "text/plain": [
       "['volvo', 'audi', 'mercedes_benz', 'bmw', 'volkswagen', 'opel']"
      ]
     },
     "execution_count": 364,
     "metadata": {},
     "output_type": "execute_result"
    }
   ],
   "source": [
    "sorted(mean_mileage_by_brand, key=mean_mileage_by_brand.get, reverse=True)[:6]"
   ]
  },
  {
   "cell_type": "markdown",
   "metadata": {},
   "source": [
    "Below, you can see the top 6 brands with less mileage"
   ]
  },
  {
   "cell_type": "code",
   "execution_count": 365,
   "metadata": {},
   "outputs": [
    {
     "data": {
      "text/plain": [
       "['smart', 'hyundai', 'skoda', 'toyota', 'fiat', 'citroen']"
      ]
     },
     "execution_count": 365,
     "metadata": {},
     "output_type": "execute_result"
    }
   ],
   "source": [
    "sorted(mean_mileage_by_brand, key=mean_mileage_by_brand.get, reverse=False)[:6]"
   ]
  },
  {
   "cell_type": "code",
   "execution_count": 366,
   "metadata": {},
   "outputs": [
    {
     "name": "stdout",
     "output_type": "stream",
     "text": [
      "volvo with the most mileage\n"
     ]
    }
   ],
   "source": [
    "print(\"{brand} with the most mileage\".format(brand=sorted(mean_mileage_by_brand, key=mean_mileage_by_brand.get, reverse=True)[0]))"
   ]
  },
  {
   "cell_type": "code",
   "execution_count": 367,
   "metadata": {},
   "outputs": [
    {
     "name": "stdout",
     "output_type": "stream",
     "text": [
      "smart with the less mileage\n"
     ]
    }
   ],
   "source": [
    "print(\"{brand} with the less mileage\".format(brand=sorted(mean_mileage_by_brand, key=mean_mileage_by_brand.get, reverse=False)[0]))"
   ]
  },
  {
   "cell_type": "markdown",
   "metadata": {},
   "source": [
    "We are converting a Pandas Series object to a dictionary."
   ]
  },
  {
   "cell_type": "code",
   "execution_count": 368,
   "metadata": {},
   "outputs": [],
   "source": [
    "series_mean_price = pd.Series(mean_price_by_brand)"
   ]
  },
  {
   "cell_type": "markdown",
   "metadata": {},
   "source": [
    "We are converting a Pandas Series object to a dictionary."
   ]
  },
  {
   "cell_type": "code",
   "execution_count": 369,
   "metadata": {},
   "outputs": [],
   "source": [
    "series_mean_mileage = pd.Series(mean_mileage_by_brand)"
   ]
  },
  {
   "cell_type": "markdown",
   "metadata": {},
   "source": [
    "We concatenate two Pandas Series objects to create a single pandas DataFrame object. "
   ]
  },
  {
   "cell_type": "code",
   "execution_count": 370,
   "metadata": {},
   "outputs": [],
   "source": [
    "df = pd.concat([series_mean_price, series_mean_mileage], axis=1)"
   ]
  },
  {
   "cell_type": "markdown",
   "metadata": {},
   "source": [
    "We are renaming dataframe's columns names"
   ]
  },
  {
   "cell_type": "code",
   "execution_count": 371,
   "metadata": {},
   "outputs": [],
   "source": [
    "df.rename({0:'mean_price', 1:'mean_mileage'}, axis=1, inplace=True)"
   ]
  },
  {
   "cell_type": "markdown",
   "metadata": {},
   "source": [
    "We are visualizing the content of our new data frame."
   ]
  },
  {
   "cell_type": "code",
   "execution_count": 372,
   "metadata": {},
   "outputs": [
    {
     "data": {
      "text/html": [
       "<div>\n",
       "<style scoped>\n",
       "    .dataframe tbody tr th:only-of-type {\n",
       "        vertical-align: middle;\n",
       "    }\n",
       "\n",
       "    .dataframe tbody tr th {\n",
       "        vertical-align: top;\n",
       "    }\n",
       "\n",
       "    .dataframe thead th {\n",
       "        text-align: right;\n",
       "    }\n",
       "</style>\n",
       "<table border=\"1\" class=\"dataframe\">\n",
       "  <thead>\n",
       "    <tr style=\"text-align: right;\">\n",
       "      <th></th>\n",
       "      <th>mean_price</th>\n",
       "      <th>mean_mileage</th>\n",
       "    </tr>\n",
       "  </thead>\n",
       "  <tbody>\n",
       "    <tr>\n",
       "      <th>volkswagen</th>\n",
       "      <td>5384.0</td>\n",
       "      <td>143399.0</td>\n",
       "    </tr>\n",
       "    <tr>\n",
       "      <th>bmw</th>\n",
       "      <td>6881.0</td>\n",
       "      <td>143649.0</td>\n",
       "    </tr>\n",
       "    <tr>\n",
       "      <th>opel</th>\n",
       "      <td>4802.0</td>\n",
       "      <td>142122.0</td>\n",
       "    </tr>\n",
       "    <tr>\n",
       "      <th>mercedes_benz</th>\n",
       "      <td>31015.0</td>\n",
       "      <td>143705.0</td>\n",
       "    </tr>\n",
       "    <tr>\n",
       "      <th>audi</th>\n",
       "      <td>6670.0</td>\n",
       "      <td>144243.0</td>\n",
       "    </tr>\n",
       "    <tr>\n",
       "      <th>ford</th>\n",
       "      <td>2937.0</td>\n",
       "      <td>140499.0</td>\n",
       "    </tr>\n",
       "    <tr>\n",
       "      <th>renault</th>\n",
       "      <td>1762.0</td>\n",
       "      <td>141006.0</td>\n",
       "    </tr>\n",
       "    <tr>\n",
       "      <th>peugeot</th>\n",
       "      <td>2341.0</td>\n",
       "      <td>140458.0</td>\n",
       "    </tr>\n",
       "    <tr>\n",
       "      <th>fiat</th>\n",
       "      <td>14097.0</td>\n",
       "      <td>137027.0</td>\n",
       "    </tr>\n",
       "    <tr>\n",
       "      <th>seat</th>\n",
       "      <td>2918.0</td>\n",
       "      <td>139848.0</td>\n",
       "    </tr>\n",
       "    <tr>\n",
       "      <th>mazda</th>\n",
       "      <td>2786.0</td>\n",
       "      <td>140944.0</td>\n",
       "    </tr>\n",
       "    <tr>\n",
       "      <th>nissan</th>\n",
       "      <td>3106.0</td>\n",
       "      <td>137733.0</td>\n",
       "    </tr>\n",
       "    <tr>\n",
       "      <th>skoda</th>\n",
       "      <td>4805.0</td>\n",
       "      <td>136530.0</td>\n",
       "    </tr>\n",
       "    <tr>\n",
       "      <th>citroen</th>\n",
       "      <td>2910.0</td>\n",
       "      <td>137667.0</td>\n",
       "    </tr>\n",
       "    <tr>\n",
       "      <th>toyota</th>\n",
       "      <td>3950.0</td>\n",
       "      <td>136875.0</td>\n",
       "    </tr>\n",
       "    <tr>\n",
       "      <th>smart</th>\n",
       "      <td>2443.0</td>\n",
       "      <td>127975.0</td>\n",
       "    </tr>\n",
       "    <tr>\n",
       "      <th>volvo</th>\n",
       "      <td>33347.0</td>\n",
       "      <td>145757.0</td>\n",
       "    </tr>\n",
       "    <tr>\n",
       "      <th>mitsubishi</th>\n",
       "      <td>2489.0</td>\n",
       "      <td>141462.0</td>\n",
       "    </tr>\n",
       "    <tr>\n",
       "      <th>hyundai</th>\n",
       "      <td>3689.0</td>\n",
       "      <td>134985.0</td>\n",
       "    </tr>\n",
       "    <tr>\n",
       "      <th>honda</th>\n",
       "      <td>2963.0</td>\n",
       "      <td>140648.0</td>\n",
       "    </tr>\n",
       "  </tbody>\n",
       "</table>\n",
       "</div>"
      ],
      "text/plain": [
       "               mean_price  mean_mileage\n",
       "volkswagen         5384.0      143399.0\n",
       "bmw                6881.0      143649.0\n",
       "opel               4802.0      142122.0\n",
       "mercedes_benz     31015.0      143705.0\n",
       "audi               6670.0      144243.0\n",
       "ford               2937.0      140499.0\n",
       "renault            1762.0      141006.0\n",
       "peugeot            2341.0      140458.0\n",
       "fiat              14097.0      137027.0\n",
       "seat               2918.0      139848.0\n",
       "mazda              2786.0      140944.0\n",
       "nissan             3106.0      137733.0\n",
       "skoda              4805.0      136530.0\n",
       "citroen            2910.0      137667.0\n",
       "toyota             3950.0      136875.0\n",
       "smart              2443.0      127975.0\n",
       "volvo             33347.0      145757.0\n",
       "mitsubishi         2489.0      141462.0\n",
       "hyundai            3689.0      134985.0\n",
       "honda              2963.0      140648.0"
      ]
     },
     "execution_count": 372,
     "metadata": {},
     "output_type": "execute_result"
    }
   ],
   "source": [
    "df"
   ]
  }
 ],
 "metadata": {
  "kernelspec": {
   "display_name": "Python 3",
   "language": "python",
   "name": "python3"
  },
  "language_info": {
   "codemirror_mode": {
    "name": "ipython",
    "version": 3
   },
   "file_extension": ".py",
   "mimetype": "text/x-python",
   "name": "python",
   "nbconvert_exporter": "python",
   "pygments_lexer": "ipython3",
   "version": "3.8.2"
  }
 },
 "nbformat": 4,
 "nbformat_minor": 2
}
