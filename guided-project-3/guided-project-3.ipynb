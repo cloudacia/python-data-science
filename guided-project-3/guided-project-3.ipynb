{
 "cells": [
  {
   "cell_type": "markdown",
   "id": "8a8c4af1",
   "metadata": {},
   "source": [
    "# Project: Exploring Hacker News Posts"
   ]
  },
  {
   "cell_type": "markdown",
   "id": "fc889c7a",
   "metadata": {},
   "source": [
    "### We'll explore the Hacker News Post dataset to find an answer to the following questions:\n",
    "\n",
    "#### Do Ask HN or Show HN receive more comments on average?\n",
    "\n",
    "#### Do posts created at a certain time receive more comments on average?"
   ]
  },
  {
   "cell_type": "markdown",
   "id": "4112afed",
   "metadata": {},
   "source": [
    "We'll open the file called \"HN_posts_year_to_Sep_26_2016.csv\". It contains a collection of HN posts. I'll import the CSV as a list of list Python objects."
   ]
  },
  {
   "cell_type": "code",
   "execution_count": 278,
   "id": "7d24b773",
   "metadata": {},
   "outputs": [],
   "source": [
    "import csv\n",
    "opened_file = open('hacker_news.csv')\n",
    "hn = list(csv.reader(opened_file))"
   ]
  },
  {
   "cell_type": "code",
   "execution_count": 279,
   "id": "b0761333",
   "metadata": {},
   "outputs": [
    {
     "name": "stdout",
     "output_type": "stream",
     "text": [
      "The total number of elements (Hacker News posts) in the CSV file is 20101.\n"
     ]
    }
   ],
   "source": [
    "print(\"The total number of elements (Hacker News posts) in the CSV file is {quantity}.\".format(quantity=len(hn)))"
   ]
  },
  {
   "cell_type": "markdown",
   "id": "c9ce7dbb",
   "metadata": {},
   "source": [
    "Show the first five (5) elements of the list."
   ]
  },
  {
   "cell_type": "code",
   "execution_count": 280,
   "id": "7af0dea6",
   "metadata": {},
   "outputs": [
    {
     "name": "stdout",
     "output_type": "stream",
     "text": [
      "[['id', 'title', 'url', 'num_points', 'num_comments', 'author', 'created_at'], ['12224879', 'Interactive Dynamic Video', 'http://www.interactivedynamicvideo.com/', '386', '52', 'ne0phyte', '8/4/2016 11:52'], ['10975351', 'How to Use Open Source and Shut the Fuck Up at the Same Time', 'http://hueniverse.com/2016/01/26/how-to-use-open-source-and-shut-the-fuck-up-at-the-same-time/', '39', '10', 'josep2', '1/26/2016 19:30'], ['11964716', \"Florida DJs May Face Felony for April Fools' Water Joke\", 'http://www.thewire.com/entertainment/2013/04/florida-djs-april-fools-water-joke/63798/', '2', '1', 'vezycash', '6/23/2016 22:20'], ['11919867', 'Technology ventures: From Idea to Enterprise', 'https://www.amazon.com/Technology-Ventures-Enterprise-Thomas-Byers/dp/0073523429', '3', '1', 'hswarna', '6/17/2016 0:01']]\n"
     ]
    }
   ],
   "source": [
    "print(hn[:5])"
   ]
  },
  {
   "cell_type": "markdown",
   "id": "160d6dc3",
   "metadata": {},
   "source": [
    "Assign the header to a variable."
   ]
  },
  {
   "cell_type": "code",
   "execution_count": 281,
   "id": "50833091",
   "metadata": {},
   "outputs": [],
   "source": [
    "headers = hn[0]"
   ]
  },
  {
   "cell_type": "markdown",
   "id": "3ea4225d",
   "metadata": {},
   "source": [
    "Delete the header from the dataset"
   ]
  },
  {
   "cell_type": "code",
   "execution_count": 282,
   "id": "8df242d0",
   "metadata": {},
   "outputs": [],
   "source": [
    "del hn[0]"
   ]
  },
  {
   "cell_type": "markdown",
   "id": "c7cbde06",
   "metadata": {},
   "source": [
    "Print the value of the headers variable to see the column's names"
   ]
  },
  {
   "cell_type": "code",
   "execution_count": 283,
   "id": "7062b73f",
   "metadata": {},
   "outputs": [
    {
     "name": "stdout",
     "output_type": "stream",
     "text": [
      "['id', 'title', 'url', 'num_points', 'num_comments', 'author', 'created_at']\n"
     ]
    }
   ],
   "source": [
    "print(headers)"
   ]
  },
  {
   "cell_type": "markdown",
   "id": "872720ec",
   "metadata": {},
   "source": [
    "Show the first five elements of the list to verify whether the header is present o not."
   ]
  },
  {
   "cell_type": "code",
   "execution_count": 284,
   "id": "1e1e4fc2",
   "metadata": {},
   "outputs": [
    {
     "name": "stdout",
     "output_type": "stream",
     "text": [
      "[['12224879', 'Interactive Dynamic Video', 'http://www.interactivedynamicvideo.com/', '386', '52', 'ne0phyte', '8/4/2016 11:52'], ['10975351', 'How to Use Open Source and Shut the Fuck Up at the Same Time', 'http://hueniverse.com/2016/01/26/how-to-use-open-source-and-shut-the-fuck-up-at-the-same-time/', '39', '10', 'josep2', '1/26/2016 19:30'], ['11964716', \"Florida DJs May Face Felony for April Fools' Water Joke\", 'http://www.thewire.com/entertainment/2013/04/florida-djs-april-fools-water-joke/63798/', '2', '1', 'vezycash', '6/23/2016 22:20'], ['11919867', 'Technology ventures: From Idea to Enterprise', 'https://www.amazon.com/Technology-Ventures-Enterprise-Thomas-Byers/dp/0073523429', '3', '1', 'hswarna', '6/17/2016 0:01'], ['10301696', 'Note by Note: The Making of Steinway L1037 (2007)', 'http://www.nytimes.com/2007/11/07/movies/07stein.html?_r=0', '8', '2', 'walterbell', '9/30/2015 4:12']]\n"
     ]
    }
   ],
   "source": [
    "print(hn[:5])"
   ]
  },
  {
   "cell_type": "markdown",
   "id": "b96c3ed7",
   "metadata": {},
   "source": [
    "We'll create three (3) lists to use as a container to classify posts according to some strings found in the post's title."
   ]
  },
  {
   "cell_type": "code",
   "execution_count": 285,
   "id": "037821a3",
   "metadata": {},
   "outputs": [],
   "source": [
    "ask_posts = list()\n",
    "show_posts = list()\n",
    "other_posts = list()"
   ]
  },
  {
   "cell_type": "markdown",
   "id": "4768ca55",
   "metadata": {},
   "source": [
    "The code below, check the column 'title' to find certain strings so we can classify the post in different buckets:"
   ]
  },
  {
   "cell_type": "code",
   "execution_count": 286,
   "id": "4dabff2d",
   "metadata": {},
   "outputs": [],
   "source": [
    "for row in hn:\n",
    "    title = row[1].lower()\n",
    "    if title.startswith('ask hn'):\n",
    "        ask_posts.append(row)\n",
    "    elif title.startswith('show hn'):\n",
    "        show_posts.append(row)\n",
    "    else:\n",
    "        other_posts.append(row)"
   ]
  },
  {
   "cell_type": "code",
   "execution_count": 287,
   "id": "07145152",
   "metadata": {},
   "outputs": [
    {
     "name": "stdout",
     "output_type": "stream",
     "text": [
      "The total amount of posts on the list ask_posts is 1744\n"
     ]
    }
   ],
   "source": [
    "print(\"The total amount of posts on the list ask_posts is {quantity}\".format(quantity=len(ask_posts)))"
   ]
  },
  {
   "cell_type": "code",
   "execution_count": 288,
   "id": "61cc2fc6",
   "metadata": {},
   "outputs": [
    {
     "name": "stdout",
     "output_type": "stream",
     "text": [
      "The total amount of posts on the list show_posts is 1162\n"
     ]
    }
   ],
   "source": [
    "print(\"The total amount of posts on the list show_posts is {quantity}\".format(quantity=len(show_posts)))"
   ]
  },
  {
   "cell_type": "code",
   "execution_count": 289,
   "id": "fd0035af",
   "metadata": {},
   "outputs": [
    {
     "name": "stdout",
     "output_type": "stream",
     "text": [
      "The total amount of posts on the list other_posts is 17194\n"
     ]
    }
   ],
   "source": [
    "print(\"The total amount of posts on the list other_posts is {quantity}\".format(quantity=len(other_posts)))"
   ]
  },
  {
   "cell_type": "markdown",
   "id": "54200a8f",
   "metadata": {},
   "source": [
    "Find the total number of comments in ask posts"
   ]
  },
  {
   "cell_type": "code",
   "execution_count": 290,
   "id": "4c3c1904",
   "metadata": {},
   "outputs": [
    {
     "name": "stdout",
     "output_type": "stream",
     "text": [
      "24483\n"
     ]
    }
   ],
   "source": [
    "total_ask_comments = 0\n",
    "for row in ask_posts:\n",
    "    total_ask_comments += int(row[4])\n",
    "print(total_ask_comments)"
   ]
  },
  {
   "cell_type": "markdown",
   "id": "486ddd97",
   "metadata": {},
   "source": [
    "Compute the average number of comments on ask posts, and assign it to"
   ]
  },
  {
   "cell_type": "code",
   "execution_count": 291,
   "id": "b95355f1",
   "metadata": {},
   "outputs": [
    {
     "name": "stdout",
     "output_type": "stream",
     "text": [
      "14.038417431192661\n"
     ]
    }
   ],
   "source": [
    "avg_ask_comments = total_ask_comments / len(ask_posts)\n",
    "print(avg_ask_comments)"
   ]
  },
  {
   "cell_type": "markdown",
   "id": "6b2ee19e",
   "metadata": {},
   "source": [
    "Find the total number of comments in show posts"
   ]
  },
  {
   "cell_type": "code",
   "execution_count": 292,
   "id": "e4b6b8e4",
   "metadata": {},
   "outputs": [
    {
     "name": "stdout",
     "output_type": "stream",
     "text": [
      "11988\n"
     ]
    }
   ],
   "source": [
    "total_show_comments = 0\n",
    "for row in show_posts:\n",
    "    total_show_comments += int(row[4])\n",
    "print(total_show_comments)"
   ]
  },
  {
   "cell_type": "markdown",
   "id": "4e946b36",
   "metadata": {},
   "source": [
    "Compute the average number of comments on show posts, and assign it to"
   ]
  },
  {
   "cell_type": "code",
   "execution_count": 293,
   "id": "02cc2770",
   "metadata": {},
   "outputs": [
    {
     "name": "stdout",
     "output_type": "stream",
     "text": [
      "10.31669535283993\n"
     ]
    }
   ],
   "source": [
    "avg_show_comments = total_show_comments / len(show_posts)\n",
    "print(avg_show_comments)"
   ]
  },
  {
   "cell_type": "markdown",
   "id": "9d80a738",
   "metadata": {},
   "source": [
    "### Do show posts or ask posts receive more comments on average?\n",
    "\n",
    "Ask posts receives more comments on average (10.39 vs. 4.88)."
   ]
  },
  {
   "cell_type": "markdown",
   "id": "478481ab",
   "metadata": {},
   "source": [
    "We'll create a list called result_list where each list contains two elements: a) daytime/time; B) a number of comments. "
   ]
  },
  {
   "cell_type": "code",
   "execution_count": 294,
   "id": "85ed103b",
   "metadata": {},
   "outputs": [],
   "source": [
    "from datetime import datetime\n",
    "result_list = list()\n",
    "for row in ask_posts:\n",
    "    created_at = row[6]\n",
    "    num_comments = int(row[4])\n",
    "    result_list.append([created_at, num_comments])\n",
    "    "
   ]
  },
  {
   "cell_type": "markdown",
   "id": "e1beaefe",
   "metadata": {},
   "source": [
    "We'll create two dictionaries two store two pieces of information: a) Number of posts per hour; b) Number of comments per hour."
   ]
  },
  {
   "cell_type": "code",
   "execution_count": 295,
   "id": "cc126f12",
   "metadata": {},
   "outputs": [
    {
     "name": "stdout",
     "output_type": "stream",
     "text": [
      "['8/16/2016 9:55', 6]\n"
     ]
    }
   ],
   "source": [
    "counts_by_hour = dict()\n",
    "comments_by_hour = dict()\n",
    "\n",
    "for row in result_list:    \n",
    "    date_time_obj = datetime.strptime(row[0], \"%m/%d/%Y %H:%M\")\n",
    "    hour = date_time_obj.hour\n",
    "    if hour in counts_by_hour:\n",
    "        counts_by_hour[hour] += 1        \n",
    "    else:\n",
    "        counts_by_hour[hour] =1 \n",
    "    \n",
    "    if hour in comments_by_hour:\n",
    "        comments_by_hour[hour] += row[1]\n",
    "    else:\n",
    "        comments_by_hour[hour] = row[1]\n",
    "        \n",
    "\n",
    "print(result_list[0])"
   ]
  },
  {
   "cell_type": "markdown",
   "id": "3f42b6e1",
   "metadata": {},
   "source": [
    "The following dictionary shows the hour as the key and the number of messages per hour as the value:"
   ]
  },
  {
   "cell_type": "code",
   "execution_count": 296,
   "id": "d68a2f90",
   "metadata": {},
   "outputs": [
    {
     "name": "stdout",
     "output_type": "stream",
     "text": [
      "{9: 45, 13: 85, 10: 59, 14: 107, 16: 108, 23: 68, 12: 73, 17: 100, 15: 116, 21: 109, 20: 80, 2: 58, 18: 109, 3: 54, 5: 46, 19: 110, 1: 60, 22: 71, 8: 48, 4: 47, 0: 55, 6: 44, 7: 34, 11: 58}\n"
     ]
    }
   ],
   "source": [
    "print(counts_by_hour)"
   ]
  },
  {
   "cell_type": "markdown",
   "id": "09744582",
   "metadata": {},
   "source": [
    "The following dictionary shows hour as the key and the number of messages per hour as the value:"
   ]
  },
  {
   "cell_type": "code",
   "execution_count": 297,
   "id": "166f2f7c",
   "metadata": {},
   "outputs": [
    {
     "name": "stdout",
     "output_type": "stream",
     "text": [
      "{9: 251, 13: 1253, 10: 793, 14: 1416, 16: 1814, 23: 543, 12: 687, 17: 1146, 15: 4477, 21: 1745, 20: 1722, 2: 1381, 18: 1439, 3: 421, 5: 464, 19: 1188, 1: 683, 22: 479, 8: 492, 4: 337, 0: 447, 6: 397, 7: 267, 11: 641}\n"
     ]
    }
   ],
   "source": [
    "print(comments_by_hour)"
   ]
  },
  {
   "cell_type": "markdown",
   "id": "ef66d185",
   "metadata": {},
   "source": [
    "We'll create a list of lists in which the first element is the hour and the second element is the average number of comments"
   ]
  },
  {
   "cell_type": "code",
   "execution_count": 298,
   "id": "da912dbd",
   "metadata": {},
   "outputs": [],
   "source": [
    "avg_by_hour = list()\n",
    "for item in counts_by_hour.items():\n",
    "    avg_by_hour.append([item[0], comments_by_hour[item[0]] / item[1]])\n",
    "    "
   ]
  },
  {
   "cell_type": "markdown",
   "id": "dbc7c28b",
   "metadata": {},
   "source": [
    "Below, you can see inside each list the hour (first element) and the average of ask posts per hour (second element) of the day."
   ]
  },
  {
   "cell_type": "code",
   "execution_count": 299,
   "id": "658d85b7",
   "metadata": {},
   "outputs": [
    {
     "name": "stdout",
     "output_type": "stream",
     "text": [
      "[[9, 5.5777777777777775], [13, 14.741176470588234], [10, 13.440677966101696], [14, 13.233644859813085], [16, 16.796296296296298], [23, 7.985294117647059], [12, 9.41095890410959], [17, 11.46], [15, 38.5948275862069], [21, 16.009174311926607], [20, 21.525], [2, 23.810344827586206], [18, 13.20183486238532], [3, 7.796296296296297], [5, 10.08695652173913], [19, 10.8], [1, 11.383333333333333], [22, 6.746478873239437], [8, 10.25], [4, 7.170212765957447], [0, 8.127272727272727], [6, 9.022727272727273], [7, 7.852941176470588], [11, 11.051724137931034]]\n"
     ]
    }
   ],
   "source": [
    "print(avg_by_hour)"
   ]
  },
  {
   "cell_type": "markdown",
   "id": "33644057",
   "metadata": {},
   "source": [
    "We'll create a dictionary where the key is the average number of ask posts and the hour value. After that, we'll sort the dictionary in descending order to find the top five (hours) where most comments are posted."
   ]
  },
  {
   "cell_type": "code",
   "execution_count": 300,
   "id": "3ca310d3",
   "metadata": {},
   "outputs": [
    {
     "name": "stdout",
     "output_type": "stream",
     "text": [
      "[15, 2, 20, 16, 21]\n"
     ]
    }
   ],
   "source": [
    "avg_by_hour_dict = dict()\n",
    "for element in avg_by_hour:    \n",
    "    avg_by_hour_dict[element[0]] = element[1]\n",
    "print(sorted(avg_by_hour_dict, key=avg_by_hour_dict.get, reverse=True)[:5])"
   ]
  },
  {
   "cell_type": "markdown",
   "id": "fbe2851d",
   "metadata": {},
   "source": [
    "The top five (5) hours of the day to post Ask Posts in Hacker News are the following:"
   ]
  },
  {
   "cell_type": "code",
   "execution_count": 302,
   "id": "6e4124b4",
   "metadata": {},
   "outputs": [
    {
     "name": "stdout",
     "output_type": "stream",
     "text": [
      "15:00:00: 38.59 average comments per post\n",
      "02:00:00: 23.81 average comments per post\n",
      "20:00:00: 21.52 average comments per post\n",
      "16:00:00: 16.80 average comments per post\n",
      "21:00:00: 16.01 average comments per post\n"
     ]
    }
   ],
   "source": [
    "top_5 = sorted(avg_by_hour_dict, key=avg_by_hour_dict.get, reverse=True)[:5]\n",
    "for element in top_5:\n",
    "    print(\"{time}: {posts:.2f} average comments per post\".format(time=datetime.strptime(str(element), \"%H\").time(), posts=avg_by_hour_dict[element]))"
   ]
  },
  {
   "cell_type": "code",
   "execution_count": null,
   "id": "a7b6bd3d",
   "metadata": {},
   "outputs": [],
   "source": []
  },
  {
   "cell_type": "code",
   "execution_count": null,
   "id": "8284c517",
   "metadata": {},
   "outputs": [],
   "source": []
  },
  {
   "cell_type": "code",
   "execution_count": null,
   "id": "93892549",
   "metadata": {},
   "outputs": [],
   "source": []
  },
  {
   "cell_type": "code",
   "execution_count": null,
   "id": "87f26b4e",
   "metadata": {},
   "outputs": [],
   "source": []
  },
  {
   "cell_type": "code",
   "execution_count": null,
   "id": "7d6797ad",
   "metadata": {},
   "outputs": [],
   "source": []
  },
  {
   "cell_type": "code",
   "execution_count": null,
   "id": "80e54095",
   "metadata": {},
   "outputs": [],
   "source": []
  }
 ],
 "metadata": {
  "kernelspec": {
   "display_name": "Python 3",
   "language": "python",
   "name": "python3"
  },
  "language_info": {
   "codemirror_mode": {
    "name": "ipython",
    "version": 3
   },
   "file_extension": ".py",
   "mimetype": "text/x-python",
   "name": "python",
   "nbconvert_exporter": "python",
   "pygments_lexer": "ipython3",
   "version": "3.8.8"
  }
 },
 "nbformat": 4,
 "nbformat_minor": 5
}
