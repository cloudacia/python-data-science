{
 "cells": [
  {
   "cell_type": "markdown",
   "metadata": {},
   "source": [
    "# Project: Profitable App Profile for the App Store and Google Play Markets"
   ]
  },
  {
   "cell_type": "markdown",
   "metadata": {},
   "source": [
    "The company generates cash flow through ads shown in the application. Therefore, more users use apps; more ads mean more money.\n",
    "\n",
    "The project aims to determine which kind of free mobile application generates more user engagement.\n",
    "\n",
    "For our data analysis, we'll use the following datasets:\n",
    "\n",
    "Apple Store datasets\n",
    "https://dq-content.s3.amazonaws.com/350/AppleStore.csv\n",
    "\n",
    "Google Store datasets\n",
    "https://www.kaggle.com/datasets/lava18/google-play-store-apps"
   ]
  },
  {
   "cell_type": "code",
   "execution_count": 1077,
   "metadata": {},
   "outputs": [],
   "source": [
    "import csv\n",
    "\n",
    "with open('AppleStore.csv') as file:\n",
    "    csv_reader = csv.reader(file)\n",
    "    apple_store_data = list(csv_reader)"
   ]
  },
  {
   "cell_type": "code",
   "execution_count": 1078,
   "metadata": {},
   "outputs": [
    {
     "name": "stdout",
     "output_type": "stream",
     "text": [
      "['389801252', 'Instagram', '113954816', 'USD', '0.0', '2161558', '1289', '4.5', '4.0', '10.23', '12+', 'Photo & Video', '37', '0', '29', '1']\n"
     ]
    }
   ],
   "source": [
    "print(apple_store_data[2])"
   ]
  },
  {
   "cell_type": "code",
   "execution_count": 1079,
   "metadata": {},
   "outputs": [],
   "source": [
    "with open('googleplaystore.csv') as file:\n",
    "    csv_reader = csv.reader(file)\n",
    "    google_play_data = list(csv_reader)"
   ]
  },
  {
   "cell_type": "code",
   "execution_count": 1080,
   "metadata": {},
   "outputs": [
    {
     "name": "stdout",
     "output_type": "stream",
     "text": [
      "['Photo Editor & Candy Camera & Grid & ScrapBook', 'ART_AND_DESIGN', '4.1', '159', '19M', '10,000+', 'Free', '0', 'Everyone', 'Art & Design', 'January 7, 2018', '1.0.0', '4.0.3 and up']\n"
     ]
    }
   ],
   "source": [
    "print(google_play_data[1])"
   ]
  },
  {
   "cell_type": "code",
   "execution_count": 1081,
   "metadata": {},
   "outputs": [],
   "source": [
    "def explore_data(dataset, start, end, rows_and_columns=False):\n",
    "    dataset_slice = dataset[start:end]    \n",
    "    for row in dataset_slice:\n",
    "        print(row)\n",
    "        print('\\n') # adds a new (empty) line after each row\n",
    "\n",
    "    if rows_and_columns:\n",
    "        print('Number of rows:', len(dataset))\n",
    "        print('Number of columns:', len(dataset[0]))"
   ]
  },
  {
   "cell_type": "code",
   "execution_count": 1082,
   "metadata": {},
   "outputs": [
    {
     "name": "stdout",
     "output_type": "stream",
     "text": [
      "['284882215', 'Facebook', '389879808', 'USD', '0.0', '2974676', '212', '3.5', '3.5', '95.0', '4+', 'Social Networking', '37', '1', '29', '1']\n",
      "\n",
      "\n",
      "['389801252', 'Instagram', '113954816', 'USD', '0.0', '2161558', '1289', '4.5', '4.0', '10.23', '12+', 'Photo & Video', '37', '0', '29', '1']\n",
      "\n",
      "\n",
      "['529479190', 'Clash of Clans', '116476928', 'USD', '0.0', '2130805', '579', '4.5', '4.5', '9.24.12', '9+', 'Games', '38', '5', '18', '1']\n",
      "\n",
      "\n",
      "['420009108', 'Temple Run', '65921024', 'USD', '0.0', '1724546', '3842', '4.5', '4.0', '1.6.2', '9+', 'Games', '40', '5', '1', '1']\n",
      "\n",
      "\n",
      "None\n"
     ]
    }
   ],
   "source": [
    "print(explore_data(apple_store_data, 1, 5))"
   ]
  },
  {
   "cell_type": "code",
   "execution_count": 1083,
   "metadata": {},
   "outputs": [
    {
     "name": "stdout",
     "output_type": "stream",
     "text": [
      "['Photo Editor & Candy Camera & Grid & ScrapBook', 'ART_AND_DESIGN', '4.1', '159', '19M', '10,000+', 'Free', '0', 'Everyone', 'Art & Design', 'January 7, 2018', '1.0.0', '4.0.3 and up']\n",
      "\n",
      "\n",
      "['Coloring book moana', 'ART_AND_DESIGN', '3.9', '967', '14M', '500,000+', 'Free', '0', 'Everyone', 'Art & Design;Pretend Play', 'January 15, 2018', '2.0.0', '4.0.3 and up']\n",
      "\n",
      "\n",
      "['U Launcher Lite – FREE Live Cool Themes, Hide Apps', 'ART_AND_DESIGN', '4.7', '87510', '8.7M', '5,000,000+', 'Free', '0', 'Everyone', 'Art & Design', 'August 1, 2018', '1.2.4', '4.0.3 and up']\n",
      "\n",
      "\n",
      "['Sketch - Draw & Paint', 'ART_AND_DESIGN', '4.5', '215644', '25M', '50,000,000+', 'Free', '0', 'Teen', 'Art & Design', 'June 8, 2018', 'Varies with device', '4.2 and up']\n",
      "\n",
      "\n",
      "None\n"
     ]
    }
   ],
   "source": [
    "print(explore_data(google_play_data, 1, 5))"
   ]
  },
  {
   "cell_type": "code",
   "execution_count": 1084,
   "metadata": {},
   "outputs": [
    {
     "name": "stdout",
     "output_type": "stream",
     "text": [
      "['284882215', 'Facebook', '389879808', 'USD', '0.0', '2974676', '212', '3.5', '3.5', '95.0', '4+', 'Social Networking', '37', '1', '29', '1']\n",
      "\n",
      "\n",
      "['389801252', 'Instagram', '113954816', 'USD', '0.0', '2161558', '1289', '4.5', '4.0', '10.23', '12+', 'Photo & Video', '37', '0', '29', '1']\n",
      "\n",
      "\n",
      "['529479190', 'Clash of Clans', '116476928', 'USD', '0.0', '2130805', '579', '4.5', '4.5', '9.24.12', '9+', 'Games', '38', '5', '18', '1']\n",
      "\n",
      "\n",
      "['420009108', 'Temple Run', '65921024', 'USD', '0.0', '1724546', '3842', '4.5', '4.0', '1.6.2', '9+', 'Games', '40', '5', '1', '1']\n",
      "\n",
      "\n",
      "Number of rows: 7198\n",
      "Number of columns: 16\n",
      "None\n"
     ]
    }
   ],
   "source": [
    "print(explore_data(apple_store_data, 1, 5, True))"
   ]
  },
  {
   "cell_type": "code",
   "execution_count": 1085,
   "metadata": {},
   "outputs": [
    {
     "name": "stdout",
     "output_type": "stream",
     "text": [
      "['Photo Editor & Candy Camera & Grid & ScrapBook', 'ART_AND_DESIGN', '4.1', '159', '19M', '10,000+', 'Free', '0', 'Everyone', 'Art & Design', 'January 7, 2018', '1.0.0', '4.0.3 and up']\n",
      "\n",
      "\n",
      "['Coloring book moana', 'ART_AND_DESIGN', '3.9', '967', '14M', '500,000+', 'Free', '0', 'Everyone', 'Art & Design;Pretend Play', 'January 15, 2018', '2.0.0', '4.0.3 and up']\n",
      "\n",
      "\n",
      "['U Launcher Lite – FREE Live Cool Themes, Hide Apps', 'ART_AND_DESIGN', '4.7', '87510', '8.7M', '5,000,000+', 'Free', '0', 'Everyone', 'Art & Design', 'August 1, 2018', '1.2.4', '4.0.3 and up']\n",
      "\n",
      "\n",
      "['Sketch - Draw & Paint', 'ART_AND_DESIGN', '4.5', '215644', '25M', '50,000,000+', 'Free', '0', 'Teen', 'Art & Design', 'June 8, 2018', 'Varies with device', '4.2 and up']\n",
      "\n",
      "\n",
      "Number of rows: 10842\n",
      "Number of columns: 13\n",
      "None\n"
     ]
    }
   ],
   "source": [
    "print(explore_data(google_play_data, 1, 5, True))"
   ]
  },
  {
   "cell_type": "code",
   "execution_count": 1086,
   "metadata": {},
   "outputs": [
    {
     "name": "stdout",
     "output_type": "stream",
     "text": [
      "['id', 'track_name', 'size_bytes', 'currency', 'price', 'rating_count_tot', 'rating_count_ver', 'user_rating', 'user_rating_ver', 'ver', 'cont_rating', 'prime_genre', 'sup_devices.num', 'ipadSc_urls.num', 'lang.num', 'vpp_lic']\n"
     ]
    }
   ],
   "source": [
    "print(apple_store_data[0])"
   ]
  },
  {
   "cell_type": "code",
   "execution_count": 1087,
   "metadata": {},
   "outputs": [
    {
     "name": "stdout",
     "output_type": "stream",
     "text": [
      "['App', 'Category', 'Rating', 'Reviews', 'Size', 'Installs', 'Type', 'Price', 'Content Rating', 'Genres', 'Last Updated', 'Current Ver', 'Android Ver']\n"
     ]
    }
   ],
   "source": [
    "print(google_play_data[0])"
   ]
  },
  {
   "cell_type": "code",
   "execution_count": 1088,
   "metadata": {},
   "outputs": [
    {
     "name": "stdout",
     "output_type": "stream",
     "text": [
      "['Life Made WI-Fi Touchscreen Photo Frame', '1.9', '19', '3.0M', '1,000+', 'Free', '0', 'Everyone', '', 'February 11, 2018', '1.0.19', '4.0 and up']\n"
     ]
    }
   ],
   "source": [
    "print(google_play_data[10473])"
   ]
  },
  {
   "cell_type": "code",
   "execution_count": 1089,
   "metadata": {},
   "outputs": [],
   "source": [
    "del(google_play_data[10473])"
   ]
  },
  {
   "cell_type": "code",
   "execution_count": 1090,
   "metadata": {},
   "outputs": [
    {
     "name": "stdout",
     "output_type": "stream",
     "text": [
      "['osmino Wi-Fi: free WiFi', 'TOOLS', '4.2', '134203', '4.1M', '10,000,000+', 'Free', '0', 'Everyone', 'Tools', 'August 7, 2018', '6.06.14', '4.4 and up']\n"
     ]
    }
   ],
   "source": [
    "print(google_play_data[10473])"
   ]
  },
  {
   "cell_type": "markdown",
   "metadata": {},
   "source": [
    "Our Google Play data set has some duplicated rows. Below, you can see that Intagram application has four (4) entries:"
   ]
  },
  {
   "cell_type": "code",
   "execution_count": 1091,
   "metadata": {},
   "outputs": [
    {
     "name": "stdout",
     "output_type": "stream",
     "text": [
      "['Instagram', 'SOCIAL', '4.5', '66577313', 'Varies with device', '1,000,000,000+', 'Free', '0', 'Teen', 'Social', 'July 31, 2018', 'Varies with device', 'Varies with device']\n",
      "['Instagram', 'SOCIAL', '4.5', '66577446', 'Varies with device', '1,000,000,000+', 'Free', '0', 'Teen', 'Social', 'July 31, 2018', 'Varies with device', 'Varies with device']\n",
      "['Instagram', 'SOCIAL', '4.5', '66577313', 'Varies with device', '1,000,000,000+', 'Free', '0', 'Teen', 'Social', 'July 31, 2018', 'Varies with device', 'Varies with device']\n",
      "['Instagram', 'SOCIAL', '4.5', '66509917', 'Varies with device', '1,000,000,000+', 'Free', '0', 'Teen', 'Social', 'July 31, 2018', 'Varies with device', 'Varies with device']\n"
     ]
    }
   ],
   "source": [
    "for app in google_play_data:\n",
    "    if app[0] == 'Instagram':\n",
    "        print(app)"
   ]
  },
  {
   "cell_type": "markdown",
   "metadata": {},
   "source": [
    "The code below helps us to identify the total number of duplicated applications within the dataset:"
   ]
  },
  {
   "cell_type": "code",
   "execution_count": 1092,
   "metadata": {},
   "outputs": [],
   "source": [
    "duplicate_apps = list()\n",
    "unique_apps = list()\n",
    "\n",
    "for app in google_play_data[1:]:\n",
    "    if app[0] in unique_apps:\n",
    "        duplicate_apps.append(app[0])\n",
    "    else:\n",
    "        unique_apps.append(app[0])"
   ]
  },
  {
   "cell_type": "code",
   "execution_count": 1093,
   "metadata": {},
   "outputs": [
    {
     "name": "stdout",
     "output_type": "stream",
     "text": [
      "Google Play dataset has 1181 duplicated rows\n"
     ]
    }
   ],
   "source": [
    "print(\"Google Play dataset has\" + \" \" + str(len(duplicate_apps)) + \" \" + \"duplicated rows\")"
   ]
  },
  {
   "cell_type": "code",
   "execution_count": 1094,
   "metadata": {},
   "outputs": [
    {
     "name": "stdout",
     "output_type": "stream",
     "text": [
      "Google Play dataset has 9659 unique rows\n"
     ]
    }
   ],
   "source": [
    "print(\"Google Play dataset has\" + \" \" + str(len(unique_apps)) + \" \" + \"unique rows\")"
   ]
  },
  {
   "cell_type": "markdown",
   "metadata": {},
   "source": [
    "We need to clean our data set, which means eliminating duplicated rows. The criteria to remove duplicate rows from the dataset will be deleting rows with fewer reviews."
   ]
  },
  {
   "cell_type": "code",
   "execution_count": 1095,
   "metadata": {},
   "outputs": [],
   "source": [
    "reviews_max = dict()\n",
    "for app in google_play_data[1:]:\n",
    "    name = app[0]\n",
    "    n_reviews = float(app[3])\n",
    "    if (name in reviews_max) and (reviews_max[name] < n_reviews):\n",
    "        reviews_max[name] = n_reviews\n",
    "    elif name not in reviews_max:\n",
    "        reviews_max[name] = n_reviews\n",
    "        \n",
    "        "
   ]
  },
  {
   "cell_type": "markdown",
   "metadata": {},
   "source": [
    "Below, you can see that the dictionary stores the Instagram row with the higher number of reviews:"
   ]
  },
  {
   "cell_type": "code",
   "execution_count": 1096,
   "metadata": {},
   "outputs": [
    {
     "name": "stdout",
     "output_type": "stream",
     "text": [
      "66577446.0\n"
     ]
    }
   ],
   "source": [
    "print(reviews_max['Instagram'])"
   ]
  },
  {
   "cell_type": "markdown",
   "metadata": {},
   "source": [
    "The dictionary has the same number of unique rows in the object list 'unique_apps'."
   ]
  },
  {
   "cell_type": "code",
   "execution_count": 1097,
   "metadata": {},
   "outputs": [
    {
     "name": "stdout",
     "output_type": "stream",
     "text": [
      "9659\n"
     ]
    }
   ],
   "source": [
    "print(len(reviews_max))"
   ]
  },
  {
   "cell_type": "code",
   "execution_count": 1098,
   "metadata": {},
   "outputs": [],
   "source": [
    "android_clean = list()\n",
    "already_added = list()"
   ]
  },
  {
   "cell_type": "markdown",
   "metadata": {},
   "source": [
    "We'll create a new dataset cleaned (list of the list) for Google Play Store without duplicated entries."
   ]
  },
  {
   "cell_type": "code",
   "execution_count": 1099,
   "metadata": {},
   "outputs": [],
   "source": [
    "for app in google_play_data[1:]:\n",
    "    name = app[0]\n",
    "    n_reviews = float(app[3])\n",
    "    if n_reviews == reviews_max[name] and name not in already_added:\n",
    "        android_clean.append(app)        \n",
    "        already_added.append(name)\n",
    "        "
   ]
  },
  {
   "cell_type": "code",
   "execution_count": 1100,
   "metadata": {},
   "outputs": [
    {
     "name": "stdout",
     "output_type": "stream",
     "text": [
      "New dataset has 9659 unique rows\n"
     ]
    }
   ],
   "source": [
    "print(\"New dataset has\" + \" \" + str(len(android_clean)) + \" \" + \"unique rows\")"
   ]
  },
  {
   "cell_type": "code",
   "execution_count": 1101,
   "metadata": {},
   "outputs": [
    {
     "name": "stdout",
     "output_type": "stream",
     "text": [
      "中国語 AQリスニング\n"
     ]
    }
   ],
   "source": [
    "print(android_clean[4412][0])"
   ]
  },
  {
   "cell_type": "code",
   "execution_count": 1102,
   "metadata": {},
   "outputs": [
    {
     "name": "stdout",
     "output_type": "stream",
     "text": [
      "لعبة تقدر تربح DZ\n"
     ]
    }
   ],
   "source": [
    "print(android_clean[7940][0])"
   ]
  },
  {
   "cell_type": "code",
   "execution_count": 1103,
   "metadata": {},
   "outputs": [
    {
     "name": "stdout",
     "output_type": "stream",
     "text": [
      "爱奇艺PPS -《欢乐颂2》电视剧热播\n"
     ]
    }
   ],
   "source": [
    "print(apple_store_data[814][1])"
   ]
  },
  {
   "cell_type": "code",
   "execution_count": 1104,
   "metadata": {},
   "outputs": [
    {
     "name": "stdout",
     "output_type": "stream",
     "text": [
      "【脱出ゲーム】絶対に最後までプレイしないで 〜謎解き＆ブロックパズル〜\n"
     ]
    }
   ],
   "source": [
    "print(apple_store_data[6732][1])"
   ]
  },
  {
   "cell_type": "markdown",
   "metadata": {},
   "source": [
    "The function below is used to detect whether a word contains an English character or not."
   ]
  },
  {
   "cell_type": "code",
   "execution_count": 1105,
   "metadata": {},
   "outputs": [],
   "source": [
    "def is_english_word(string1):\n",
    "    for s in string1:\n",
    "        if ord(s) > 127:\n",
    "            return False\n",
    "    return True\n",
    "        "
   ]
  },
  {
   "cell_type": "code",
   "execution_count": 1106,
   "metadata": {},
   "outputs": [
    {
     "name": "stdout",
     "output_type": "stream",
     "text": [
      "True\n"
     ]
    }
   ],
   "source": [
    "print(is_english_word(\"Instagram\"))"
   ]
  },
  {
   "cell_type": "code",
   "execution_count": 1107,
   "metadata": {},
   "outputs": [
    {
     "name": "stdout",
     "output_type": "stream",
     "text": [
      "False\n"
     ]
    }
   ],
   "source": [
    "print(is_english_word(\"爱奇艺PPS -《欢乐颂2》电视剧热播\"))"
   ]
  },
  {
   "cell_type": "code",
   "execution_count": 1108,
   "metadata": {},
   "outputs": [
    {
     "name": "stdout",
     "output_type": "stream",
     "text": [
      "False\n"
     ]
    }
   ],
   "source": [
    "print(is_english_word(\"Docs To Go™ Free Office Suite\"))"
   ]
  },
  {
   "cell_type": "code",
   "execution_count": 1109,
   "metadata": {},
   "outputs": [
    {
     "name": "stdout",
     "output_type": "stream",
     "text": [
      "False\n"
     ]
    }
   ],
   "source": [
    "print(is_english_word(\"Instachat 😜\"))"
   ]
  },
  {
   "cell_type": "code",
   "execution_count": 1110,
   "metadata": {},
   "outputs": [],
   "source": [
    "def is_english_word_v2(string1):\n",
    "    counter = 0\n",
    "    for s in string1:\n",
    "        if ord(s) > 127:\n",
    "            counter += 1\n",
    "    if counter > 3:\n",
    "        return False\n",
    "    return True\n",
    "            \n",
    "            \n",
    "    "
   ]
  },
  {
   "cell_type": "markdown",
   "metadata": {},
   "source": [
    "The function below will flag as a non-English word if the word contains more non-ASCII characters."
   ]
  },
  {
   "cell_type": "code",
   "execution_count": 1111,
   "metadata": {},
   "outputs": [
    {
     "name": "stdout",
     "output_type": "stream",
     "text": [
      "True\n"
     ]
    }
   ],
   "source": [
    "print(is_english_word_v2(\"Instagram\"))"
   ]
  },
  {
   "cell_type": "code",
   "execution_count": 1112,
   "metadata": {},
   "outputs": [
    {
     "name": "stdout",
     "output_type": "stream",
     "text": [
      "False\n"
     ]
    }
   ],
   "source": [
    "print(is_english_word_v2(\"爱奇艺PPS -《欢乐颂2》电视剧热播\"))"
   ]
  },
  {
   "cell_type": "code",
   "execution_count": 1113,
   "metadata": {},
   "outputs": [
    {
     "name": "stdout",
     "output_type": "stream",
     "text": [
      "True\n"
     ]
    }
   ],
   "source": [
    "print(is_english_word_v2(\"Docs To Go™ Free Office Suite\"))"
   ]
  },
  {
   "cell_type": "code",
   "execution_count": 1114,
   "metadata": {},
   "outputs": [
    {
     "name": "stdout",
     "output_type": "stream",
     "text": [
      "True\n"
     ]
    }
   ],
   "source": [
    "print(is_english_word_v2(\"Instachat 😜\"))"
   ]
  },
  {
   "cell_type": "markdown",
   "metadata": {},
   "source": [
    "Using the function \"is_english_word_v2\", we'll determine the total number of applications in the Google Play dataset with non-English names."
   ]
  },
  {
   "cell_type": "code",
   "execution_count": 1115,
   "metadata": {},
   "outputs": [],
   "source": [
    "def detect_non_english_apps(dataset, brand='Google'):\n",
    "    if brand == 'Google':\n",
    "        google_non_english_apps = list()\n",
    "        for app in dataset:\n",
    "            if is_english_word_v2(app[0]) == False:\n",
    "                google_non_english_apps.append(app[0])\n",
    "        return google_non_english_apps\n",
    "    else:\n",
    "        apple_non_english_apps = list()\n",
    "        for app in dataset:\n",
    "            if is_english_word_v2(app[1]) == False:                \n",
    "                apple_non_english_apps.append(app[1])        \n",
    "        return apple_non_english_apps\n",
    "\n",
    "            \n",
    "            \n",
    "        "
   ]
  },
  {
   "cell_type": "code",
   "execution_count": 1116,
   "metadata": {},
   "outputs": [
    {
     "name": "stdout",
     "output_type": "stream",
     "text": [
      "['Flame - درب عقلك يوميا', 'သိင်္ Astrology - Min Thein Kha BayDin', 'РИА Новости', 'صور حرف H', 'L.POINT - 엘포인트 [ 포인트, 멤버십, 적립, 사용, 모바일 카드, 쿠폰, 롯데]', 'RMEduS - 음성인식을 활용한 R 프로그래밍 실습 시스템', 'AJ렌터카 법인 카셰어링', 'Al Quran Free - القرآن (Islam)', '中国語 AQリスニング', '日本AV历史', 'Ay Yıldız Duvar Kağıtları', 'বাংলা টিভি প্রো BD Bangla TV', 'Cъновник BG', 'CSCS BG (в български)', '뽕티비 - 개인방송, 인터넷방송, BJ방송', 'BL 女性向け恋愛ゲーム◆俺プリクロス', 'SecondSecret ‐「恋を読む」BLノベルゲーム‐', 'BL 女性向け恋愛ゲーム◆ごくメン', 'あなカレ【BL】無料ゲーム', '감성학원 BL 첫사랑', 'BQ-መጽሐፍ ቅዱሳዊ ጥያቄዎች', 'BS Calendar / Patro / पात्रो', 'Vip视频免费看-BT磁力搜索', 'Билеты ПДД CD 2019 PRO', 'Offline Jízdní řády CG Transit', 'Bonjour 2017 Abidjan CI ❤❤❤❤❤', 'CK 初一 十五', 'الفاتحون Conquerors', 'DG ग्राम / Digital Gram Panchayat', 'DM הפקות', 'DW فارسی By dw-arab.com', 'لعبة تقدر تربح DZ', 'বাংলাflix', 'RPG ブレイジング ソウルズ アクセレイト', '英漢字典 EC Dictionary', 'ECナビ×シュフー', 'أحداث وحقائق | خبر عاجل في اخبار العالم', 'EG SIM CARD (EGSIMCARD, 이지심카드)', 'パーリーゲイツ公式通販｜EJ STYLE（イージェイスタイル）', 'FAHREDDİN er-RÂZİ TEFSİRİ', \"I'm Rich/Eu sou Rico/أنا غني/我很有錢\", 'AÖF Ev İdaresi 1. Sınıf', 'Ey Sey Storytime រឿងនិទានតាឥសី', '哈哈姆特不EY', 'FP Разбитый дисплей']\n"
     ]
    }
   ],
   "source": [
    "print(detect_non_english_apps(android_clean))"
   ]
  },
  {
   "cell_type": "code",
   "execution_count": 1117,
   "metadata": {},
   "outputs": [
    {
     "name": "stdout",
     "output_type": "stream",
     "text": [
      "We have 45 apps with non-english names in the Google Play dataset\n"
     ]
    }
   ],
   "source": [
    "print(\"We have\" + \" \" + str(len(detect_non_english_apps(android_clean))) + \" \" + \"apps with non-english names in the Google Play dataset\")"
   ]
  },
  {
   "cell_type": "code",
   "execution_count": 1118,
   "metadata": {},
   "outputs": [
    {
     "name": "stdout",
     "output_type": "stream",
     "text": [
      "['爱奇艺PPS -《欢乐颂2》电视剧热播', '聚力视频HD-人民的名义,跨界歌王全网热播', '优酷视频', '网易新闻 - 精选好内容，算出你的兴趣', '淘宝 - 随时随地，想淘就淘', '搜狐视频HD-欢乐颂2 全网首播', '阴阳师-全区互通现世集结', '百度贴吧-全球最大兴趣交友社区', '百度网盘', '爱奇艺HD -《欢乐颂2》电视剧热播', '乐视视频HD-白鹿原,欢乐颂,奔跑吧全网热播', '万年历-值得信赖的日历黄历查询工具', '新浪新闻-阅读最新时事热门头条资讯视频', '喜马拉雅FM（听书社区）电台有声小说相声英语', '央视影音-海量央视内容高清直播', '腾讯视频HD-楚乔传,明日之子6月全网首播', '手机百度 - 百度一下你就得到', '百度视频HD-高清电视剧、电影在线观看神器', 'MOMO陌陌-开启视频社交,用直播分享生活', 'QQ 浏览器-搜新闻、选小说漫画、看视频', '同花顺-炒股、股票', '聚力视频-蓝光电视剧电影在线热播', '快看漫画', '乐视视频-白鹿原,欢乐颂,奔跑吧全网热播', '酷我音乐HD-无损在线播放', '随手记（专业版）-好用的记账理财工具', 'Dictionary ( قاموس عربي / انجليزي + ودجيت الترجمة)', '滴滴出行', '高德地图（精准专业的手机地图）', '百度HD-极速安全浏览器', '美丽说-潮流穿搭快人一步', '百度地图-智能的手机导航，公交地铁出行必备', 'Majiang Mahjong（单机+川麻+二人+武汉+国标）', '土豆视频HD—高清影视综艺视频播放器', '360手机卫士-超安全的来电防骚扰助手', 'QQ浏览器HD-极速搜索浏览器', '搜狗输入法-Sogou Keyboard', '百度网盘 HD', '大众点评-发现品质生活', '讯飞输入法-智能语音输入和表情斗图神器', '美柚 - 女生助手', '爱奇艺 - 电视剧电影综艺娱乐视频播放器', '搜狐视频-欢乐颂2 全网首播', '百度地图HD', 'QQ同步助手-新机一键换机必备工具', 'QQ音乐-来这里“发现・音乐”', '腾讯新闻-头条新闻热点资讯掌上阅读软件', '土豆（短视频分享平台）', '风行视频+ HD - 电影电视剧体育视频播放器', '仙劍奇俠傳5 - 劍傲丹楓', 'YY- 小全民手机直播交友软件', '腾讯视频-欢乐颂2全网首播', '中华万年历-2亿用户首选的日历软件', '央视影音HD-海量央视内容高清直播', '蘑菇街-网红直播搭配的购物特卖平台', 'Keep - 移动健身教练 自由运动场', '美团 - 吃喝玩乐全都有', '百度贴吧HD', '腾讯手机管家-拦截骚扰电话的QQ安全助手', 'Color•多彩手帐', '饿了么外卖-大牌美食，折扣热卖', '宝宝树孕育-火爆的备孕怀孕育儿社区', '懂球帝 - 足球迷必备神器', '今日头条 - 热点新闻资讯、娱乐视频', '天猫-购物', '沪江开心词场-英语、日语、韩语学习助手', '倩女幽魂-周年庆资料片开启新主角剧情', '欢乐斗地主•腾讯', '百度糯米-电影,美食团购', '搜狐新闻—新闻热点资讯掌上阅读软件', '手机京东-首次购买可领取188元优惠券', 'QQ游戏大厅HD', '赶集网-工作生活啥都有！', '携程旅行-酒店、机票、火车票预订助手', '腾讯微云-安全备份共享文件和照片', 'QQ安全中心', '招商银行', '去哪儿旅行-预订机票酒店火车票特价旅游自由行', '暴风影音-BaoFeng Player', '闲鱼-让你的闲置游起来', '内涵段子 - 精选搞笑图片、视频', '斗鱼--王者大神在直播', 'VVebo - 微博客户端', '中国建设银行', '中国联通手机营业厅客户端(官方版)', '电信营业厅', '随手记专业版 for  iPad', '美团外卖-甜点生鲜等零食配送，鲜花蛋糕准时必达', '驾考宝典-2017最新考驾照驾校学车驾考通', '欧路英语词典 Eudic 增强版', '腾讯欢乐麻将全集', '宜搜小说-亿万网友共享高品质阅读离线追更', '夢王国と眠れる100人の王子様', '航旅纵横PRO-官方航班动态、手机值机、机票', '鬼畜-一亿人都在用的聊天必备神器!', '中国银行手机银行', 'QQ阅读-拥有海量原著小说的电子书阅读器', '武林群侠传—经典单机武侠RPG', '咕咚-你的跑步骑行运动社区', '中国工商银行', '一骑当千OL-万人国战（Legend Of Warrior）', '百度外卖 -美食订餐品质生活，超市水果安全到家', '腾讯微云HD-安全备份共享文件和照片', '飞常准Pro-全球航班查询机票酒店预订', '车轮查违章-2017全国车辆违章查询助手', '今日头条(专业版) - 推荐热点新闻资讯、娱乐视频', '机票、火车票、汽车票预定助手 for 铁路12306', '招商银行信用卡掌上生活', '百度手机卫士－wifi管家照片管理防骚扰安全助手', '汽车之家-提供新车,二手车报价及资讯', 'クックパッド - No.1料理レシピ検索アプリ', '我想有个家', '易到 - 低价专车,高品质出行', '球球大作战', '仙劍奇俠傳1 DOS懷舊版', '作业帮-小初高学生拍照答疑学习辅导助手', '猫眼电影 - 一网打尽好电影', '唯品会-欢乐颂2独家电商 同款热卖', '返利-专注网购省钱的APP', 'YY HD-和美女帅哥主播视频聊天的直播软件', '一起作业学生端-中小学霸口袋学习辅导助手', '搜房网房天下-新房二手房租房交易平台', '更加令人感动的养成游戏「昭和杂货店物语２」', '金庸群侠传—全自由单机武侠RPG', '去哪儿旅行HD-总有你要的低价', '安居客-二手房、新房、租房的找房助手', '秒拍-超火爆短视频分享平台', 'WiFi钥匙—万能wifi密码钥匙', '中国移动手机营业厅(中国移动官方)', 'same - 就是聊得来', '腾讯新闻HD-最资深的阅读软件', '唯品会 HD 全球精选，正品特卖', '同花顺至尊版', '小咖秀-全民视频才艺直播社区', '当当-正品秒杀，首单立减5元', '1号店-全球超市 轻松到家', 'comico/人気オリジナル漫画が毎日更新！/コミコ', '格斗学院-社团争霸圣装崛起，热血高校一触即发', 'おそ松さんのへそくりウォーズ\\u3000〜ニートの攻防〜', '虫虫大作战-经典休闲蛇蛇', '农行掌上银行', '同程旅游-中国汽车票自助周边游海外跟团订票', '魔窟-无尽的地下城', '無制限で人気音楽聴き放題！ - Music Bank（ミュージックバンク）', '途牛旅游-订机票酒店，查旅行景点门票', 'ナビタイムの乗り換え案内 - 遅延情報やバス時刻表を案内するアプリ', '51信用卡管家', '少年西游记－西游卡牌王者之作', '北京浮生记', '聚美优品-新用户专享160元现金券', '诸神战纪IV:战神崛起', '洋码头—正品保证海外买手带你全球购洋货', '开心消消乐®', '苏宁易购-新人专享大礼包', '熊猫直播-王者大神主播带你荣耀开黑', '虎牙直播-热门高清游戏互动直播平台', 'タップル誕生 - 出会いアプリで趣味から恋活・婚活', '浪漫庄园(自由创造你的梦想)', '58同城-招聘找工作兼职租房软件', '京东金融-【618周年庆】新人领千元好礼', '广东移动手机营业厅-话费流量一手掌握，专属优惠定期发放', '幻獣契約クリプトラクト', 'GANMA! - 漫画が制限ナシで読み放題のマンガアプリ', '小猿搜题-中小学拍照搜题作业帮手', '驴妈妈旅游-订景点门票机票火车票特价酒店', '单机群侠传-金庸群侠传口袋版', '淘票票 - 原淘宝电影，选座购票必备', '腾讯体育-NBA全网独播', 'AbemaTV-インターネットテレビ局', 'ダイエットが続く！人気のカロリー・体重管理アプリ 「もぐたん」', 'kurashiru [クラシル] - 料理レシピ動画数No.1', '私のヒモ男～イケメン拾いました～恋愛・放置ゲーム', '高德地图HD', '梦幻西游互通版', '去哪儿攻略—查游记旅游攻略，订机票酒店', '乐视体育—英超欧冠F1高清直播', '史上最强的大脑4-超级王者(时代永恒小强)', '网易考拉海购—新人免费领取1000元优惠券', '她社区-只有女生的社区！', '转转-更专业的二手闲置交易平台', '51信用卡管家Pro', '上海移动掌上营业厅', '全民炸金花-首款含电玩城百家乐的棋牌游戏', '【2017年の運勢決定版】ゲッターズ飯田の占い', '虎牙直播HD-热门高清游戏互动直播平台', '单机三国志2-铜雀台资料片 天天都玩', '洋菓子店ローズ ～ほのぼの再建記～', '12オーディンズ - 王道RPG', 'かなもじ', '达令全球好货－正品免税，带你购全球', '三国杀传奇-神将觉醒', '花椒直播-高清美颜直播互动平台', '全民夺宝-时尚购潮流商品平台', '特种部队-跨服竞技TCG军事策略游戏', '途家-全球公寓民宿预订平台', 'エレメンタル ファンタジー - 高精細３ＤアクションＲＰＧ', '驾校一点通-保过版，2017最新驾考学车宝典', '平安WiFi-手机必备的万能WiFi上网钥匙', '天天快报 - 最热门的新闻资讯软件', '狼人之夜', '家长通-一起作业旗下家长端的同步课堂点读机', '小猿搜题HD-中小学拍照搜题作业帮手', '单机三国志-不抽卡无体力,战个痛快', '蚂蚁聚宝—蚂蚁金服旗下投资理财平台', '家計簿マネーフォワード-自動連携で簡単 人気の家計簿', 'ゆるドラシル -本格派神話RPG-', '书香云集Pro-小说电子书免费看书读书听书追书无广告阅读器', '买火车票Pro', '直播吧(官方版)-体育从这里开始', '永生劫 — 单机回合仙侠RPG', '江湖风云录-超自由武侠剧情角色扮演手游', '工银融e联', 'ひみつの出会い探しはバクアイ-無料の出会いチャットアプリで友達作り', 'pixivコミック - みんなのマンガアプリ', '【真・お絵かきパズル】〇〇投げてみた結果ｗｗ\\u3000完全無料！', '宜人贷借款', '【明星恋爱】偶像之路TIME TO STAR', '실시간 날씨', '零基础学音标', '记账·圈子账本(专业版)—可共享的全能记帐本软件', '宾果消消消 -赵丽颖代言', '戦艦帝国-200艘の実在戦艦を集めろ (2周年記念&世界2000万DL)', 'Jメール 出会える人気の匿名SNS出会い系アプリ', '楽天カード', '蜜芽 - 生娃养娃上蜜芽', '360手机浏览器-安全上网看新闻、安心搜索、极速抢票', '华尔街见闻（专业版）-全球财经新闻精选', 'لغز الماضي - اربع اجزاء', 'スロットマニア・フィーバー～本場ラスベガススロット', '小历 - 通知中心日历', '放置江湖: 大侠的成长之路（高自由度的武侠体验）', \"マクドナルド - McDonald's Japan\", '借贷宝-直投熟人更高明', '大根にしがみつく女子高生', '熊猫直播HD-最娱乐的直播平台', 'カロリー管理（痩せるアプリ）', 'マンガ図書館Z -人気漫画が読み放題！', '微软识花', 'ホットペッパービューティー/サロン予約', 'ようとん場', '自动证件照 - 智能证件照相机美图美颜编辑,制作学生证件照', '翼支付-只为简单生活', '银联钱包- 银行卡管家，扫码支付享优惠', 'HIGO-全球奢侈品牌和设计师品牌购买平台', 'ヤフオク! 利用者数NO.1のオークション、フリマアプリ', '战神之怒', '宜搜小说-热门网络书籍看书追更必备神器', '征戦エクスカリバー', '【はらぺこパズル】ごはんに恋をした', '棒棒糖-宝宝的世界衣橱', '快读免费小说-最热网络小说追书神器全本下载阅读器', 'ダウト～嘘つきオトコは誰？～', '腾讯WiFi管家-手机安全免费WiFi', '超ヒモ理論 ～働きたくないでござる～', 'flick（フリック）- みんなの顔文字キーボードから名前が変わりました', '日课——给每一位好读诗的人！', '挖财宝理财-预期年化收益高达12%', 'mememo(ミーメモ)ダイエット〜生理日予測まで女性サポート', '企业微信', '全民坦克联盟—坦克帝国官方正版', 'フリル(FRIL) - 満足度No.1 のフリマアプリ', '鏡の中のプリンセス Love Palace', 'DELISH KITCHEN - レシピ動画で料理を簡単に', '中国搜索-国家权威搜索', '新概念英语2015最新版-英美全四册', '楽天市場 for iPad', '优信二手车-二手车买车卖车评估交易平台', 'Eye Training Cocololo-3dステレオグラム視力回復アプリ-', '贝贝-8000万妈妈信赖的母婴正品特卖拼团商城', '本気で英会話！ペラペラ英語\\u3000英単語・リスニング・TOEICの学習にも！', '弹弹堂S- 巴萨传奇助阵 弹弹堂手游官方版', '交通银行信用卡买单吧', '秀色秀场-网红直播 聊天交友', '上司と秘密の2LDK\\u3000Love Happening', 'ゲーム発展国＋＋', 'mazec - 手書き日本語入力ソフト', '迷你世界-国产精品沙盒联机生存建造游戏', '脱出ゲーム 1K', '【謎解き】罪と罰-ノベルゲーム型 推理アドベンチャー', 'DayDayCook － 日日煮', '平安金管家 — 值得信赖的移动金融生活管家', 'ファンタジードライブ【快進撃3DRPG】', '平安好车主-用车助手,安全管家', 'モン娘は～れむ【モンはれ】', 'ウィズダム英和・和英辞典 2', '百度钱包-金融信贷和理财投资优选', 'もやししゃちょー', '拼多多 - 1亿人都在拼的购物App', '舰娘收藏2-注册就送辽宁号', '【よく当たる】手相鑑定〜選べる鑑定ジャンル(人生運、仕事運、恋愛運)', '俺と鬼嫁の100日戦記', 'ホストのアブナイ世界', '非诚勿扰-中国最大免费婚恋交友平台', '感動アプリ！無料ゲーム Japanese Gacha', 'UDONちゅるん', 'Suicaチャージ', '家园7：雪城增强版', 'ごちうさアラーム～チノ編～', '我的密码-极简账号备忘录，安全记录管家', '大航海世界（风靡日本航海手游《壮绝大航海》正版授权）', '【カノピッピ大作戦】ギャルがオタクに恋をした/脱ギャル系彼女育成ゲーム', '天天麻将-有奖励的麻将玩法全集', '熱血高校！胴上げ部', 'Uber优步中国', '脱出ゲーム 謎解き部屋からの脱出', '10 – 頭を良くするパズル', 'どうぶつしょうぎ(公式)', 'ぼっちでもリア充になれる奇跡のアプリ。〜恋する缶づめ。〜', '美食杰-让吃饭变简单(VIP版)', '脱出ゲーム\\u3000研究所からの脱出', '脱出ゲーム\\u3000Cottage', '【謎解き】自称カノジョからの病みすぎメッセージ', '謎解き ジェスチャーゲーム - 何してる？', '銀魂 公式連載アプリ〜銀魂の漫画が毎週１巻読めるアプリ〜', 'QRコードリーダー for iPhone - 無料で使えるQRコード読み取り用アプリ', 'ぷちドラシル 〜ゆるドラ外伝〜', '激ムズ！ねこ階段', '迷你屠龙传(1.76经典休闲挂机版)', '求生无限 - 无限流生存挑战大冒险', '街机格斗王', '我叫MT3-回合制魔幻世界 大型公会副本开荒', '最高警戒', '不思議雑貨店ローズ ～ほのぼの再建記～', '脱出ゲーム KOTATSU', '好きになったら負け。\\u3000完全無料！女性向けイケメン恋愛ゲーム', '霸王卧龙传', '【推理ゲーム】 YASU-第7捜査課事件ファイル-', '精度93％ 絶望の心理テスト', '脱出ゲーム\\u3000わたしをみつけて\\u3000-おじいさんとわたしの物語-', '激おこ!! はじめしゃちょー\\u3000なんなんですか!?', '新超级群英传OL-单机党必玩的三国群英手游', '中高英文法を10時間で！マジグラ', '当たる占い師【水晶玉子】特別鑑定書≪無料占いあり≫', '脱出ゲーム\\u3000都市伝説〜杉沢村からの脱出〜', '脱出ゲーム - 書道教室 -  \"漢字\"の謎に満ちた部屋からの 脱出', '《女性口コミNo.1》水晶玉子の幸福領域占い', 'ブラックバイトはじめました。２\\u3000～居酒屋編～', '脱出ゲーム\\u3000Night Room', 'ねこみっけ - おもしろい人気無料ゲーム', '激ムズ！ねこじゃんぷ２', '脱出ゲーム - Solid - 無機質な部屋からの 脱出', '脱出ゲーム 古城からの脱出', '病みカワカメラ', '美播 - 玩不尽的真人游戏', '二炮手-同名抗战狙击手游(孙红雷主演)', '陌恋-同城高颜值寂寞美女帅哥激情交友聊天神器！', '脱出ゲーム\\u3000ぼくのおねがいきいて', 'Dark Money-無料のお金稼ぎギャンブルゲーム-', '【ドレ？ドコ？】脱出ゲーム感覚の謎解きパズルゲーム', 'ペットとあそぼ！- 声を選んで写真がしゃべる、しりとりゲームおしゃべりペット！犬・猫好き癒し系アプリ', '烈焰王座HD - 卡牌与挂机结合的养成放置游戏', '擬人缶～俺のペットが少女になった～', '僕の彼女は浮気なんかしない', '大话问仙 - 与众不同的萌派仙侠回合游戏体验(送神器)', '注文の多いブサ猫軒', 'ごちうさアラーム～リゼ編～', 'You hate me? わたしのこと きらい？', 'ゲームセンター倶楽部', '脱出ゲーム\\u3000In My Heart', '蜀山诛魔纪-古装恋爱仙侠动作手游·MMO端游品质', '大挂西游 - 降魔之路官方正版', '脱出ゲーム - KINDERGARTEN - 子供にイタズラされたリビングからの 脱出', 'ピグパーティ - きせかえ・アバターで楽しむトークアプリ', '青空発掘カンパニー', '健康献立レシピ提案 オーガニック “Ohganic\"', 'ミリオン行進曲', 'ナニワ金融道\\u3000全巻無料のマンガアプリ', 'おかんからのメッセ - ほのぼの謎解きゲーム', 'NAVIRO(ナビロー) - カーナビ/バイクナビ/徒歩ナビが使える高性能ナビアプリ', '最長１週間の献立が簡単に作れるme:new（ミーニュー）', '皮皮四川麻将', 'ワンダークラウン', '网商银行', 'サッカーカーニバル', '龙珠直播-高清游戏娱乐直播平台', '性教育そうだったのか！世界一まなべる保健体育クイズ(画像付き)', '乐享动-有运动音乐推荐的计步器', 'らぶいずふぉーえばー #泣けるピアノゲーム', '豪快ショット連発！ストレス発散テニスゲーム「エアK」', 'おじクエ - OJISAN QUEST - タップRPG -', '殺意の国のアリス -狂気に目覚めた童話の主人公たち-', '【脳トレ】ROLL -ころがす、はめる、きえる-', '操作しやすいナンプレ！目に優しい パズルゲーム 800問', 'シロクマ先生のゆるくない英文法', '剑仙传奇·蜀山修仙之独步天下', '無料ゲーム タッチザナンバー（Touch the numbers）計算の脳トレでパズル！', 'ここに墓を建てよう', '天天萌斗—超级萌红将免费领取，上千少年超级英雄形象，让你在多次元大陆享受卡牌萌斗罗乐趣', '麻雀物語３ 役満乱舞の究極大戦', 'NINE 対戦型脳トレ -目指せ賞金王！-', '派派激情版-寂陌陌声人交友神器', 'やる夫のチャリ', 'シルエットクイズ～人気マンガ・映画アニメキャラ・芸能人で暇つぶし脳トレ', '人众金服[回馈版]-高收益理财软件', 'クリアしてみろよ？ 神ゲー アクション ゲーム', '懸賞パズルパクロス２', '伙星 - 随手拍出明星一样的MV', 'iSNOB 小众精品爱好者的私藏Top 10', 'マジ死にゲー', 'まんが一本道〆', '创客金融-高收益银行存管投资理财平台', '镜花缘：两世英雄情缘,数年问仙修道', 'ディグラム恋愛診断', '盗墓OL-精绝女王', '恋愛消滅ボタン ~ 無料 泣ける恋愛小説 放置ゲーム ~', '街机游戏厅 - 电玩游戏合集火爆改版', 'ポケット戦国 -戦略と戦術で歴史を作れ！-【本格派 戦国シミュレーション】', '视吧-全民手机直播', '龙之觉醒-热血经典RPG，回味激燃岁月', 'ニュースパス -かんたん操作で必要なニュースがすぐ読めるニュースアプリ', '9回裏だけ甲子園', '捨て猫レスキュー', '战姬物语-亚洲顶级画师操刀,颜值爆表手游', '口袋苍穹-首日送萧炎，重返斗气大陆', '镜花奇缘 - 最新诛仙类卡牌传奇手游游戏', '妙资理财（九周年版)-高收益理财投资平台', '君の目的はボクを殺すこと。', '召喚AKUMA/悪魔合体召喚～育成シミュレーションRPGゲーム', '都市异能小说-全本经典有声小说听书阅读神器', 'ALOE -ダイエット・ヨガ・エクササイズ…健康美を追求する女性の人気無料ニュースアプリ', 'ポケ電バッテリー for ポケモンGO', 'はじめん\\u3000～はじめとつくる動画生活～', 'DARUMA -目玉を転がして入れてください-', 'お弁当をつくろう！ママごっこ－お仕事体験知育アプリ', '南国物語', 'TOEIC®TEST実力判定『アプトレ』', 'お前は俺の女だろーが【胸キュン恋愛、リア充ストーリー！？】', '猎魔传奇-塔塔&推塔挂机私服手游', 'ブラックバイトはじめました。俺の嫁に捧げるストーリー【放置】', 'GeniusTest！天才てすと', '牛タン牛タン牛タンタン', '炎上なう -つぶやきSNS風シミュレーションゲーム-', 'Test your color IQ！カラーIQ診断テスト２', '欢乐颂合集—刘涛、蒋欣等主演电视剧同名原著', '传说一刀 - 一刀一级PK爆屠龙', '面倒だがトリあえずキーボード ～ さわりたくなるキーボード', 'アキラメロン【メロンを受け止める、チョイムズゲー】', '面白ニュースを超快適に読める!!まとめのまとめMM', '真モグモグ風林火山2', '妙资理财-福利版（年化14.8%注册送1万体验金）', '诺诺镑客—让财富升值', 'これやったことない人いる？', '鴨川等間隔の法則', 'PP基金-随时提现的投资理财平台', '多纳餐厅2', '一言-记录字句，发现共鸣', '坦克新纪元——经典红警狂热回归', '全民暴力摩托-暴力摩托3d免费真实赛车小游戏', '女の子のための女子トレンドまとめアプリ-ウーマガジン-', '空格－更优秀的个人技能交易平台', 'マッチングならSecret- 友達・恋人探しSNS', '極限ドリブル～神の子 edition～', '暴打三国志-经典RPG角色扮演动作卡牌策略手游', 'ゲームプレイで賞金ゲット！ポットハンター', 'Fit 私人健身教练-超有效的健康运动减肥软件', 'シンデレラブレイド2', 'ピンポンカーブ  君の反射神経Lvはいくつ？  #天才求ム', 'オオカミ姫 [ みんなで協力！ターン制ギルドバトルRPG ]', 'Spot the Difference!診断テスト', '年賀状2018｜おしゃれなスマホで写真年賀状2018', '求恋爱 专业版-高端恋爱相亲婚恋交友神器,同城寂寞单身男女聊天约会找对象平台', '口袋全明星', 'Are you a psychopath? 怖い心理テスト', '桃太郎の\\u3000はなし\\u3000は終わっていない #泣ける昔話ノベルゲーム', '多盈理财-正规手机投资金融理财产品', '勇士与魔龙', '诸神战纪竞技场：超神大冒险(无尽关 排行榜 动作类横版过关游戏)', '金陵十三钗－王丽坤代言,伴你穿越红楼今梦', 'おチャベリ-ビデオ通話でマッチングアプリ', '少年勇者团 (Combo Warrior)-日系Q萌即时战斗消除RPG手游', '公牛炒股-证券开户交易软件', '流しそうめんエクストリーム', '商品バーコードで賞味期限を通知 Limiter2 (リミッター)', '【放置ゲー】壁ドンしたら人生変わった ～グリモアのキャラ達に壁ドン！？～', 'トクバイ - チラシアプリ／スーパーの特売情報で節約 -', '戦え！プリンセスドール', '無料アプリ暇つぶしゲーム【BOKEMON】〜トボケモンスターを進化させるで〜', 'MINE［マイン］ファッション/コーディネート動画アプリ', 'Casino Girl-お金稼ぎ美少女育成ゲーム-', '航海帝国HD 唯一正版授权 传承经典 统御大航海强者时代', '「おつぼね」“あるある”エンターテイメントストーリー：OTUBO（お局）', '花粉儿-女性、母婴闲置交易平台', 'the SOUL of SEVENS【ソウル オブ セブンス】', 'グルータ / 最新ニュースまとめをグループチャットで！(Grouta)', 'SmartForm - 見積書・納品書・請求書・領収書作成ソフトの新定番！', '今日、彼女が死んだ', 'ひとりぼっち惑星', '黄金日-贵金属理财投资黄金白银', 'トリセツメーカー\\u3000トリセツ診断', '奇跡のメガネ\\u3000-恋愛シミュレーションゲーム', '片手キーボードPRO', 'オーブGETマルチ掲示板！ for モンスト', 'なぞって冒険！きゅるるんくまのパズルリンク', 'スタンバイ 仕事もバイトも暮らしにあった選び方', '女の子の憧れが全てつまったTOKYOリアルコーデアプリ - TOPLOG', 'キスまでにしたい10のこと ~ 無料 胸きゅん恋愛小説 放置げーむ ~', '闇金クリッカー', '小牛在线-理财投资神器', '脳トレクロスワード -解けばIQがあがる!?無料パズルゲーム-', '英雄Q传-穿越回合制卡牌手游，梦幻般的剧情，开启3D热血传奇人生', '脱出ゲーム 体育館からの脱出【学校脱出シリーズ5弾】', '全民德州扑克-天天尽享拉斯维加斯之夜', '培训题库', '网娱大师-网吧娱乐大师', '帝国征服者-王者联盟列国纷争', '大江戸ぶらり', '多重人格彼女〜僕の彼女は世界で一番可愛くて、そして狂っている〜', '果冻星连萌-全球极具诱惑益智游戏,好玩的闯关游戏,2016最新休闲益智游戏', '微火车票-查机票订酒店春运特价随行', '霸王英雄传（吕布一统天下，演义三国群英杰传奇）', 'お小遣いアプリ。ポイントをレシートで貯めよう\\u3000／\\u3000レシポ！', '车轮车友会—汇集养车、洗车、代驾、汽车头条、汽车用品的车友聊天分享之家', '脱出ゲーム\\u3000大正ロマン\\u3000女記者脱出譚', '奇幻射击2', 'LOCARI(ロカリ)-オトナ女子向けライフスタイル情報アプリ', 'クリアした奴マジ天才', '暇つぶしに人気  脳トレ パズルゲーム\\u3000- LINK', '暇なら話そう！誰でも話せて友達も作れる「KoeTomo」', 'ニュース速報と災害地震速報が届くライフライン NewsDigest（ニュースダイジェスト）', '出会い無料のチャット掲示板 LINK', '日曜劇難99.9', 'ホラースポット-ghost spot-意味が分かると怖いマップ', '好车无忧二手车—二手车买卖实体店', '萌店-朋友圈的美味生活', 'デジラアプリ - データ容量のやりくりに', 'FRESH! - ログイン不要・高画質で生放送が見放題', '融360-贷款、信用卡、信用报告', '舞妓ドリル', '作业通-中小学搜题搜作文必备神器', '青藍高校リア充部', '坂本ですが？秘技…フリータイムキラー', '梦幻轩辕', '万年历-日历农历黄历天气', '妙资理财-探索版（安全稳健高收益理财神器  ）', '豪快ショット連発！爽快卓球ゲーム「サァァァ！」', '铁血武林-武侠回合制策略手游', '出会い応援チャットアプリLIKE YOU', 'Black Hole -世の中で最も困難な物理げーむ ぱずる-', '【業界初成長マップ搭載！ねこ育成マト当てパズルRPG】たまねこウォーズ', \"Fragment's Note Memories -Fragment's Note公式資料集アプリ-\", '無料ゲーム HANABI ON LINE 花火（ハナビ）パズル', 'BiBi娱乐社区 - 好玩的游戏都在这里！', '平安好医生-要健康上平安好医生', 'PP基金理财-灵活存取的高收益金融理财平台', '2代目 Nソウル みそぽん', 'ひとたがやし', '东西战神', '懸賞ソリティア-ギフト券/ギフトコードGETでお小遣いが稼げる定番ソリティアクロンダイク', 'ビッグバン チャット-友達作り ひま友チャット', '信用钱包官方版-用手机号就能贷款', '新大主宰-2016卡牌手游巨作！', 'パチスロ バイオハザード6', '抢火车票 for 12306火车票官网', '爆笑アプリ！人気無料ゲーム kimazui gacha', '戦国乙女〜剣戟に舞う白き剣聖〜西国参戦編', 'トリセツメーカー２\\u3000トリセツ診断', 'まぐろ職人（通）', '途牛旅游PRO-订机票酒店，查旅行景点门票', '目の錯覚で性格診断', '僕の彼女が誘拐された。', 'まぐろ投げ！', 'Love Bank-お金ゲーム/恋愛ゲーム/イケメンゲーム/育成ゲーム/タップゲーム/賭けゲーム', 'ピタゴラパブロフ', 'ダニエル！！今はフリーキック中よ！', '女子力たったの５、ゴミずら◇恋愛xイケメン育成+放置げー！無料の育成・恋愛・放置ゲーム～', '大圣捉妖记', '大头儿子天天乐跑-和孩子一起玩的游戏！', '脱出ゲーム 学校の食堂からの脱出', '渡劫-多武器战斗', 'MapFan(マップファン) – 渋滞情報/オービス/オフライン対応の本格カーナビ', 'ハニーズアプリ', '如意夺宝', '謎解き母からのメモ', 'Creema（クリーマ）- ハンドメイドマーケットプレイス', '【実況】今からカレシを葬る #衝撃の実況動画ノベルゲーム', 'モンスト マルチ掲示板 運極 ＆ ガチャ予報 & 攻略情報 for モンスターストライク', '400ステージに挑戦！ばあジャンプ', '果罐Pro-通知中心快捷安全启动插件', 'シュッと描いてポンッ!（シュポン）物理パズル脳トレ', 'HONNE -本音が言える匿名つぶやき&チャットアプリ', 'セブン‐イレブンアプリ', '脳トレ爽快パズル 激ムズ！和のひとふで書き Line', 'わかる！算数 小学４年【下】 for iPad', 'わかる！算数 小学４年【上】 for iPad', 'バーチャル高校野球', '爆速！マルチ募集掲示板 for モンスト', 'ぱちモンパズル〜簡単無料パズルRPGゲーム', '艶が～るプレミアム 女性向け恋愛ゲーム！乙女げーむ', '超特訓！トミックゲーム！！', 'SAMURAI SCHEMA -幕末維新戦記- サムライスキーマ 本格派育成放置ゲーム', '花火撮影 notepad Lite', 'NOW直播—腾讯旗下全民直播平台', 'ATOK -日本語入力キーボード', '全国一斉性格テストDX', '盗墓之王-寻龙秘事', 'ニート勇者３ -闇の側の者たち- 無料ロールプレイングゲームRPG', 'もこうもこもこ', '美柚经期助手(专业版)-月经·生理期预测，还能备孕育儿', '愛しのショコラティエ いけめん恋愛ゲーム・乙女げーむ女性向け人気', '斗斗大冒险之我爱斗斗堂-官方正版4v4竞技抛物线手游', '式姫４コマ 其之四', 'テレビ視聴', 'もじさがし', '彩库宝典-【官方版】', '口袋电玩-经典街机游戏真人秀版•玩转全民疯狂欢乐火拼炸诈扎金花送斗牛牛麻将VIP', 'e袋洗-新用户领20元优惠券，20分钟上门取送', '脱出ゲーム 気まぐれカフェの謎解きタイム', 'ぷかぷか', '最後の英単語学習！マジタン', '星になったカイロくん', 'Love Bank -お金ゲーム/恋愛ゲーム/美少女ゲーム/育成ゲーム/タップゲーム/賭けゲーム', '【完全無料】ソク出会える！ひみつフレ探し掲示板', '闪瘦-健康减肥瘦身', 'SKK アクション ブロック崩し', 'Ticket Camp - フリマよりも安心で簡単なチケットアプリ', '无双小师妹-登录送橙将', '冒険ディグディグ（ドット絵ｘ放置ｘ冒険RPG）', '成金電鉄-超ハマる放置系ゲーム', '歌手発掘 動画投稿アプリ  カラオケ！sing!  App Star', '世界邦行程大师-出国自由行定制专家', '妙健康-健康自测管家', '大空ヘクタール農園', 'FUNDO［ファンドゥ］- 話題のネタを毎日更新！無料ニュースメディア', 'JR東日本アプリ', '咪咕视频-电视剧综艺直播', '多融理财(Pro版)-12%高收益理财投资平台', 'Horror Story 2016\\u3000こわい話', '美男美女診断', '青藍高校ヒモ部', '陌爱神器-不闲聊！陌生人快速约见面平台', '激ムズ！和のひとふで書き！online', 'それゆけ！ヤンキッキー', '陌爱-最in全民交友神器！同城寂陌陌生帅哥美女视频聊天约会平台', '开心扫雷-根本停不下来的创新玩法', '高清影视-大片免费天天看', 'そら案内', 'ダイエット女子が痩せた魔法のアプリ-食事・運動・美容＠DIET', 'ゴミカレ!!', '輪ゴムでシュート！ - 無料で遊べるミニゲーム', 'レアジョブ瞬間中学英単語 | リスニングやTOEICの基礎学力にも', '電車パズル ツメツメ - 通勤時間にピッタリ! 脳トレパズル', 'カテエネ×Shufoo！', '妖怪别跑', 'ゴールできたら神！！2', '艺龙旅行Pro-酒店预订专家', '魔女の泉', 'スカッと！脳トレ！ピッといん〜頭がよくなるブロックパズルゲーム〜', '大学生のための時間割', 'パチスロ モンスターハンター 月下雷鳴', 'オービス警報 - オービス/速度取締り&渋滞', '【完全無料】おとな専用！出会い掲示板', 'モンスターマスターX【オンライン対戦型RPG（ロールプレイング・ゲーム）】', 'G1牧場ステークス', 'minimo（ミニモ）/サロン予約', 'スーパーストリートファイターIV パチスロエディション', 'PIXUSかんたん年賀状', 'BLEACH 公式連載アプリ〜BLEACHの漫画が毎週１巻読めるアプリ〜', '謎解き[緋色探偵社と100の推理]メッセージアプリ風ノベルゲーム', '【謎解き推理】意味が分かると怖い話-この怖い話を謎解き、怪談を読み解けるか…', 'フラッシュワード〜光速瞬間記憶脳トレクイズ〜', '合戦!!にんじゃ村', 'プログレッシブ ロシア語辞典', '[GP]SLOT魔法少女まどかマギカ(パチスロゲーム)', 'にゃんちゅう', 'スナイパイ72', '戦国乙女〜剣戟に舞う白き剣聖〜', 'RAMP-光を灯す孤独な物語- #無料アクションゲーム', '[GP]ハナハナホウオウ-30(パチスロゲーム)', '広告ブロッカー（ウェブ画面上の広告をブロックする最強アプリ)', '下ヨシ子の「２０１６年\\u3000あなたの流生命」', 'You勇者 -HIKAKINとSEIKIN(ヒカキンとセイキン)と無料ロールプレイング', 'ViRATES[バイレーツ]-面白ネタまとめの決定版！', '逆战仙魔 大圣萌仙全民跨服千人即时PK', '魔灵觉醒（王者归来）- 3D新职业魔剑士降临', 'Test your color IQ！カラーIQ診断テスト', 'お解きなさい！', 'スマイルパーク 〜らくらく放置系遊園地ゲーム〜', '戦国乙女2～深淵に輝く気高き将星～', '筆姫 - オシャレなグリーティングカード SNS投稿 自宅印刷もOK', '恋愛タップコミュニケーションゲーム 週刊マイメイド', '東京時層地図 for iPad', 'ゲッターズ飯田の占い', 'Ｘ:15秒の人気 アクション ゲーム', '誰にもバレない！[秘密のアルバム]\\u3000無料で写真をロック！', 'まるみえ！性教育ふしぎ発見-クイズで学ぶ保健体育', '頭の回転をはやくする！脳トレ！Blackhole', '心霊たんち機 Plus', '心がラクになる後ろ向き名言100選', 'スタバで呪文', '意味が分かると怖い話-この意味怖を謎解きできるか…【謎解き意味怖】', 'シカクイズ -暇つぶしマンガアニメ映画クイズ-暇つぶしに最適', '赤ペン 提出カメラ', '極寒スライダー', '【脱出ゲーム】絶対に最後までプレイしないで 〜謎解き＆ブロックパズル〜', 'クリスマスミッケ/脱出ゲーム感覚の絵探しパズルゲーム', '激ムズ！和のひとふで書き！ 〜頭をつかう脳トレパズルゲーム〜', 'ゲオ\\u3000クーポンが貰える！ゲーム予約もできる！', '飞凡--智慧新生活', 'PROF - 共通点で楽しむSNS', '觉醒吧数码兽-被选召的孩子  超人气动漫  回合制卡牌策略养成', '小学館 オックスフォード 英語コロケーション辞典', 'スーパーブラックジャック2', '海鮮!!すし街道', '丸亀製麺', 'ＣＲスーパー海物語ＩＮ沖縄４', '热血超人-二次元卡牌游戏', '脱出ゲーム\\u3000海底神殿からの脱出', '你我贷理财-P2P理财管家', 'パチスロ ガールズ＆パンツァー', '全民打金币——爽快的正版放置手游', '森林舞会-3d画面刺激的娱乐城游戏', '你我贷理财-基金理财工具', '謎トレ 謎解き脳トレーニング', '钱妈妈理财-国企投资有保障的金融理财产品！', '大人がハマる脳トレ！ぷるるん～頭が良くなる一筆書きパズル～', 'QRコードリーダー for iPhone', '肌年齢診断', '自らデッドボール', '洋葱圈—正经人的不正经聊天工具', '飞刀传奇-动作武侠热血江湖即时PK传奇（登录爆金装）', 'パチスロ デビル メイ クライ クロス', 'ガールズちゃんねる - 女子のニュースとガールズトーク', '英熟語ターゲット1000（4訂版）', '【マイナビバイト大学生版】大学生のバイト探し・アルバイト求人', '兜町アナリストがお伝えする「兜予報」（無料）', 'ドリブルの達人', '剑客情缘-高爆率高掉落天天疯玩', '【放置】勇者改名 ～「ふざけた名前つけやがって！」', '現金製造ロボ -毎日コツコツ3万円稼ぐ-', '出会い系無料で遊べるsnsアプリ内緒チャットトーク', '鬼吹灯昆仑神宫 - 年兽袭来', 'スッキリ謎解きゲーム！！', 'えほう - 最強の恵方コンパス', 'Clash of Richers 3 （城市富翁3）', '借金勇者~そして完済へ…', 'BLOCK(ブロック) -ぼくの箱庭【3D】-', '问仙奇遇-新玩法新套装嗨到爆', '心の美男美女診断', '動画英文法2700', 'TAP BRAIN - 1日5分の計算で頭が良くなるゲーム', '地元の掲示板「ジモティー」地元でカンタン！フリマよりもお得！', 'モンスト覇者の塔マルチ掲示板 for モンスターストライク', 'ケンタッキーフライドチキン\\u3000公式アプリ', '君にはクリアできませんよ', 'おわかりいただけただろうか心霊写真で最恐ホラー体験', 'こっち見んなwww', 'ねこあわせ。', '烈焰王座-称霸魔法帝国的策略游戏', '激突!!10円玉ドッカンバトル -最強AIに勝てる？-', '脱出ゲーム 学校の七不思議 -恐怖からの脱出-', 'Round1 お得なクーポン毎週配信！', '金钱谷软件-活期手机金融投资理财平台!', 'プチ・ロワイヤル仏和辞典（第4版）・和仏辞典（第3版）', '出会い秘密チャット - 相席 出会い系チャット', 'CROSS -よけてすすむ爽快アクション-', '秘密の関係はじめました メッセージ風恋愛ゲーム', '死亡フラグがたちました！！【ノベルゲーム型あるある謎解きアドベンチャー】', '零钱夺宝pro-新手99元红包助你1元购', 'ハマる脳とれ ぱずる!!PITTARI～子供も楽しめる脳とれ ぱずるげーむ～', '飛べないロボはただの... ～無料アクションRPGゲーム～', 'ピンポンファイター - 卓球王にオレはなるっ！！', '一起捕鱼 - 欢乐街机电玩城', '机で卓球', '開園ピクセル牧場', '斗地主·大全-2017年最受欢迎的精品棋牌游戏合集', 'サクサクチェッカー 最適化  -  iChecker', 'ママはストーカー', 'Übungen für einen starken Rücken – GEO WISSEN GESUNDHEIT', '易经全集-[有声读物]', 'バーチャル恵方巻【節分・恵方コンパス・方位】', 'My Diary - 你的名字非官方', 'タップモンスター◆タップだけの簡単本格RPG/タプモン', 'Brain Block -脳トレ分解パズル-', '脳トレ！パターンキューブ', 'ぼくのボッタクリBAR2 -全国制覇篇-', 'プリンセスクローゼット 女性向け恋愛ゲーム！乙女げーむ', '恋愛ゴシップ 女性向け恋愛ゲーム！乙女げーむ', '尚品网 - 全球精品高端时尚购物网站', 'ロボはつらいよ。～フルボッコタワー～アクション育成強化ゲーム！', 'デビルサバイバー２ 最後の７日間', '大人の出会いチャット  - 出会い系 アプリ', '星之轨迹-好玩的手游角色扮演网游新游戏', '食べないと死ぬ 3', 'Boooom!! -たった1発で爆破できますか？-', '激ムズ！お前、脱出できんの？～反射神経アクションゲーム～', '意味が分かると怖い話【意味怖】-この怖い話の意味が分かるか…', 'おかず甲子園', '絶対に笑える話\\u3000腹筋崩壊の笑える話', '時計仕掛けの彼女 /明日なんて来なきゃいいのにね', 'マンガモンスター \\u3000無料マンガ/無料本/人気マンガ', '妹型杀器', '武神战纪OL-热血三国志国战手游', '激ムズ！にゃんコプター', '謎解きあの人からメール', '东方财富网领先版-财经资讯&股票开户', '暗黑屠魔者2（唉哟-还不错哦）', 'エジコイ！〜エジプト神と恋しよっ〜', '剑雨奇缘-万人同屏PK,唯美风仙侠', 'PINGPONG（ピンポン）- 君の反射神経Lvはいくつ？', '椅子ドンVR~一ノ宮英介 編~', 'マンガきゅんと‐漫画が全話読み放題の少女まんがアプリ', 'ダイエットやメイク、ネイルのコスメ情報 - シェリル', '国金宝理财-15%年化收益的金融投资赚钱软件', '女性向けまとめ読みアプリ - pool（プール）-', 'イケメン革命◆アリスと恋の魔法 恋愛ゲーム', 'ライブチャット、ビデオチャット通話が楽しめる！ ライブでゴーゴー', '百盈足球-专业足篮比分赛事预测', 'ねこめし屋 -マンガも読めるネコゲーム料理店経営の無料育成シュミレーション-', 'Please,Dad. I wanna live.\\u3000おとうさん、おねがい。わたし生きたいよ。', 'ひとほろぼし', 'ST channel ［エスティーチャンネル］- 雑誌『セブンティーン』公式アプリ', 'ごちうさアラーム～シャロ編～', '战歌联萌-新英雄登场 惊喜嘉年华', 'テニスクラブ物語', '不良西游-神魔悟空大战篇', 'ScaryStory in Japan 怖い話し無料', '-The 穴通し3D- 君の記憶力x反射神経を問う! ～Mr.CURVEからの挑戦状 ～', '【殺人現場へようこそ】推理サスペンス劇場/謎解き大人の脳トレゲーム', '鳥として生きた男\\u3000その壮絶な人生', 'キクタン 【Advanced】 6000 ～聞いて覚える英単語～(アルク)', '全民夺宝(官方)', '大盛グルメ食堂', 'MineSweeper\\u3000マインスイーパ無料', '秒速で1億円 貢ぐ男\\u3000～美女キャラ集結！from ギャングロード JOKER～', '学年ビリのギャルが今さら受験してみた', '吕布帮帮忙-三国策略卡牌，指间微操轻松畅玩', 'キクタンTOEIC(R) Test Score 600 ～聞いて覚える英単語～(アルク)', '通信量チェッカー', '脱出ゲーム\\u3000カリスマブラザーズのワクワク女子寮脱出大作戦', '剑倚手游', '電球でテニスしてみた-無料で遊べるミニゲーム', '箱庭シティ鉄道', '平安证券', '謎解き窓ガラスの跡', 'モンスト全国マルチ掲示板 for モンスターストライク！〜タスカンと運極が作れるアプリ〜', '恋する幽霊-カレシ、死んでます。-', '人気の動画まとめてみた。\"for YouTube\"', 'キクタン  【Basic】  4000 ～聞いて覚える英単語～(アルク)', 'キクタン 【Super】 12000 ～聞いて覚える英単語～(アルク)', '香哈菜谱-最专业的家常菜谱大全 无广告版', '五目並べ - オンライン対戦搭載！', '王权之战-帝国时代皇室争霸！', 'アニメスタジオ物語', '[GP]パチスロ デビル メイ クライ クロス(パチスロゲーム)', '冒険ダンジョン村', 'ほぼ無理ゲー', 'CUBE 360°\\u3000～想像力×知能×反射神経～', '勘違い探し（俺のこと・・・）', '凤凰新闻(专业版)-有料的军事新闻、娱乐短视频', 'スシロー', '大人のためのかわいいお買い物アプリSUCRESIA(シュクレシア）', '机甲无双－燃即正义 殿堂级战斗手游', '完全犯罪クラブ', 'こち亀 公式連載アプリ〜こち亀の漫画が読めるアプリ〜', '投资乐VIP-白银黄金贵金属理财投资', '脱出ゲーム KA-MA-KU-RA', '恵方コンパス！【恵方巻を食べる方角がすぐ探せる！】', 'ヨドバシ', 'オービスガイド - 新型オービス&ネズミ捕り&検問', '万年历-农历黄历日历天气', '777游戏厅-2017超人气掌上游戏厅', '脱出ゲーム Toilet', '【負けるが勝ち？】少数派に入れば勝利の7Beget', '脱出ゲーム 心霊学校からの脱出', 'ごちうさアラーム\\u3000～ココア編～', '彼女の涙が僕を人間にした', '壊して！無限ドリルランド', '脱出ゲーム Oden', '[GP]アナザーゴッドハーデス-奪われたZEUSver.-(パチスロゲーム)', 'おやじが跳ぶ', 'ナイトメアハーレム 女性向け恋愛ゲーム！乙女げーむ', 'キンニクエスト 筋肉と筋肉と筋肉と呪われし筋肉', 'モンストマルチ掲示板 〜 The BEST 〜 for モンスターストライク', '战车世纪·经典FC重装机兵归来', '四角い頭を丸くする2', 'Yahoo!防災速報 - 地震や豪雨など災害情報をいち早く通知', '英単語ターゲット1900（5訂版）', '下ヨシ子の「２０１７年\\u3000あなたの流生命」', '性格美男美女診断２', 'Think in Japanese (Original name:ひとりごと英語)', '【ひっぱりパズル】ズキュ〜〜〜〜ン！', '完全心理プロファイルX', '秒で100億円', '恵方コンパス.', '古墓仙缘-古装恋爱修仙手游', '番茄电玩城', '大人の脳トレ！ぴたぽん #頭が良くなる #快感ハメコミパズル', '笑ったら負け', '「宅建士」過去問題《受験用》', '物理パズル:flower（フラワー）', '俺が浮気した時の話、聞く？ 男女の修羅場の話まとめ', '轩辕剑叁外传之天之痕-正版经典仙侠授权', 'ジーユー', '主播炸金花', '謝罪会見', '早くトイレに行きたい', '僕の魔球打てるの？', 'アウト～まさか浮気してないよね？～【恋愛不倫探しゲーム】', '애드픽 - 인플루언서가 되어 의미있는 수익을 올리세요!', '[GP]パチスロ ヱヴァンゲリヲン〜決意の刻〜(パチスロゲーム)', 'メンタルリープのアプリ：ワンダーウィーク（旧：ワンダーウィークス）', 'がんばれルルロロ！かさねてブロック', 'なっとう-人気の納豆育成ゲーム-', '全国マルチ掲示板 for モンスト！〜タスカンと運極ができるアプリ〜', '一筆書きゲーム！無料パズルで脳トレしよう！ by だーぱん', 'センバツLIVE!2017／第89回選抜高校野球大会公式アプリ', '新・血液型テスト', 'ジョナサンアプリ\\u3000お得なクーポンが使える便利なアプリ', 'パチスロ黄門ちゃま 喝', '罪と罰2 -犯人は誰だ!?- 謎解き推理ミステリーサスペンス', 'AKUMA大戦 -悪魔を合体召喚して魔王を育成する放置ゲーム-', '心动K歌恋爱季-让我们一起唱歌听歌恋爱吧', 'さすゆう -さすがは勇者様です-無料放置系お手軽RPG!!', '30秒マン-これクリアできるやついる？-', '开挂江湖-Q版武侠挂机', '犯人は僕です。－謎解き×探索ノベルゲーム－', 'js体育资讯', '每日红包', '激Jパチスロ 2027', 'ビルホッピング', '犯人は僕です。～露天風呂編～', '紫马财行理财精英版—安全可靠的投资理财平台', 'SPI言語 【Study Pro】', 'みんなの性格検定', 'テトリマン', 'サクッとスッキリ！ラインナンバー！', '僕の妹が死んだ。', 'ゲスの極み!パリピを探せ!!笑える・ハマる間違い探しゲーム（意外と難問）', '封神榜（洪荒西游英杰传奇）', 'ピッタリあわせて！脳トレcube', 'キモゲーいや、きも毛ー', '出会うカメ', 'アイドルの姫\\u3000-わたしの青春マテリアル-', 'ゲーム攻略「SGGP」掲示板、SNSな友達出会い', '意味が分かると怖い話-この怖い話の意味分かる？【意味怖】', 'TOEIC®テストリスニング360問', '诛妖奇遇-3D仙侠恋爱网游年度巨献(浪漫回合)', '泰坦来袭-热血英雄燃爆部落争霸之战', '蒼の彼方のフォーリズム‐ETERNAL SKY-', '江湖侠客录－武侠迷必玩单机手游', '巨商传奇', 'ナビタイム ドライブサポーター - NAVITIMEのカーナビアプリ', '琅琊天下 - 原著改编单机武侠角色扮演RPG', 'FixYou-無料でチャットトークができるSNSマッチングアプリ', '花しらべ 花認識/花検索', '挂机三国-最强挂机游戏', '修仙幻想-经典萌系回合', '逍遥修仙-掌上360度自由视角经典仙侠动作游戏', '天神决-创新仙侠手游', '修仙侠侣-正统中国风仙侠新作', '胜者为王-多人同时在线PK传奇类手机网游！', 'ネイティブ1000人と作った英会話～日常英会話編～', '懸賞ソリティア-懸賞応募でギフト券が稼げるソリティア！-無料懸賞ゲーム', '别动我学姐-校园格斗巅峰之作', 'マイにゃんカフェ', 'うねうね糸', 'リア充撲滅RUN', '仙侠剑客—大型3D精品ARPG动作神作', '競馬予想 アプリ！馬券予想で収支アップ！競馬 jra 攻略！', 'どうして私じゃダメなの？', '出会い系アプリ i-Mail（アイメール）', 'コンテンツブロッカー280 / 最高の広告ブロック 280blocker', 'オトナの教科書〜学校じゃ教わらない裏教育クイズ(画像付き)〜', 'ねこげーむ~ねこ騎士ポチ~簡単で人気の猫ゲーム~基本無料', '大人には解けない問題', '妖萌战姬HD - 日系二次元萌娘卡牌手游', 'TOEIC®テスト文法640問1', '僕の彼女が成仏するまで', '霸王卧龙传奇（全新转职系统，60种职业供你选择）', '謎解き赤い封筒', 'GETだぜ！じゃねーよｗ for ポケモン', '同城爱约会-单身男女约会神器', '最佳足球经理(非彩票)', '誰ガ為ノ世界~悲しみと始まりのユグドラシル~', 'へびでか〜へび刑事純情物語〜【放置ゲーム】', '东方头条（探索版）订阅分享感兴趣的新闻和搞笑视频', '脳トレ物理パズル【キタコレ！】～IQの限界に挑めるパズルゲーム～ktkr', '金のフレーズ 〜「新TOEIC®TEST 出る単特急 金のフレーズ」収録 〜', '山手線走ってみた。', '无敌战舰-经典策略海战巅峰对决', 'ジェスチャー当て', 'スピードOnline トランプゲーム', 'まっぷるリンク - 旅行ガイドを丸ごとアプリで持ち歩き', 'SPI非言語 【Study Pro】', 'こだわりラーメン館', '【意味笑】意味が分かると面白い話-謎解き2ch系推理ゲーム', '疯狂百宝箱', 'RPG 偽りの物語 / ドット絵ロールプレイングゲーム', '国美在线 – 新人免费领200元优惠券', '鬼畜三国-红将觉醒', '食べないと死ぬ2', '单读-我们的黄金时代', '脱出ゲーム\\u3000ピラミッドからの脱出', '無料で音楽や写真・カメラの裏技アプリ for iPhone7', '自転車ナビ by NAVITIME(ナビタイム) - 自転車のナビができるアプリ', '謎解きロッカーの忘れ物', '大人の納車ゲーム-四角いアタマを丸くする脳トレパズル', 'ねことダンボール', '２ちゃんねる for iPhone', '喔豆-发现世间美味', '梦幻仙途-经典之余又大搞趣味创新（回合制）', '借金あるからギャンブルしてくる', 'ファッション通販 ZOZOTOWN', 'マッチング チャット - マッチング&恋人探しチャット', '理财咖(管家版)-金融投资理财产品多样的手机理财工具!', '弑仙问情', '口袋理财（标准版）-上市公司报喜鸟投资', '友達 恋人探し であい ちゃっと sns -ギャルとも', '【難問謎解き】ねこ神様はクイズ好き？', '【悲報】鬼ヶ島終了のお知らせ\\u3000-ゾンビ桃太郎が3Dすぎて鬼やばいwww-', '中学英文法総復習 パターンで覚える 瞬間英文法', 'Brain15 − 脳トレ 無料パズル −', '【謎解き】ヤミすぎ彼女からのメッセージ', 'みんなのお弁当 by クックパッド ~お弁当をレシピ付きで記録・共有~']\n"
     ]
    }
   ],
   "source": [
    "print(detect_non_english_apps(apple_store_data, 'Apple'))"
   ]
  },
  {
   "cell_type": "code",
   "execution_count": 1119,
   "metadata": {},
   "outputs": [
    {
     "name": "stdout",
     "output_type": "stream",
     "text": [
      "We have 1014 apps with non-english names in the Apple Store dataset\n"
     ]
    }
   ],
   "source": [
    "print(\"We have\" + \" \" + str(len(detect_non_english_apps(apple_store_data, 'Apple'))) + \" \" + \"apps with non-english names in the Apple Store dataset\")"
   ]
  },
  {
   "cell_type": "markdown",
   "metadata": {},
   "source": [
    "We'll put the name of non-English apps on Google Play data in an object list called \"google_play_no_englsh_apps\"."
   ]
  },
  {
   "cell_type": "code",
   "execution_count": 1120,
   "metadata": {},
   "outputs": [],
   "source": [
    "google_play_no_english_apps = detect_non_english_apps(android_clean)"
   ]
  },
  {
   "cell_type": "markdown",
   "metadata": {},
   "source": [
    "Checking the number of non-English apps on Google Play"
   ]
  },
  {
   "cell_type": "code",
   "execution_count": 1121,
   "metadata": {},
   "outputs": [
    {
     "name": "stdout",
     "output_type": "stream",
     "text": [
      "45\n"
     ]
    }
   ],
   "source": [
    "print(len(google_play_no_english_apps))"
   ]
  },
  {
   "cell_type": "markdown",
   "metadata": {},
   "source": [
    "We'll put the name of non-English apps on Apple Store data in an object list called \"apple_store_no_english_apps\"."
   ]
  },
  {
   "cell_type": "code",
   "execution_count": 1122,
   "metadata": {},
   "outputs": [],
   "source": [
    "apple_store_no_english_apps = detect_non_english_apps(apple_store_data, brand='Apple')"
   ]
  },
  {
   "cell_type": "markdown",
   "metadata": {},
   "source": [
    "Checking the number of non-English apps on Apple Store"
   ]
  },
  {
   "cell_type": "code",
   "execution_count": 1123,
   "metadata": {},
   "outputs": [
    {
     "name": "stdout",
     "output_type": "stream",
     "text": [
      "1014\n"
     ]
    }
   ],
   "source": [
    "print(len(apple_store_no_english_apps))"
   ]
  },
  {
   "cell_type": "markdown",
   "metadata": {},
   "source": [
    "The function below will remove Non-English rows from any dataset to pass to the function as an input."
   ]
  },
  {
   "cell_type": "code",
   "execution_count": 1124,
   "metadata": {},
   "outputs": [],
   "source": [
    "def clean_no_english_apps(dataset, list1, brand='Google'):\n",
    "    if brand == 'Google':\n",
    "        for app in dataset[1:]:\n",
    "            if app[0] in list1:                \n",
    "                index = dataset.index(app)\n",
    "                del dataset[index]\n",
    "        return dataset\n",
    "    else:\n",
    "        for app in dataset[1:]:            \n",
    "            if app[1] in list1:\n",
    "                index = dataset.index(app)\n",
    "                del dataset[index]\n",
    "        return dataset\n",
    "    \n",
    "                "
   ]
  },
  {
   "cell_type": "markdown",
   "metadata": {},
   "source": [
    "Getting the total number of Non-English apps on Google Play"
   ]
  },
  {
   "cell_type": "code",
   "execution_count": 1125,
   "metadata": {},
   "outputs": [
    {
     "name": "stdout",
     "output_type": "stream",
     "text": [
      "45\n"
     ]
    }
   ],
   "source": [
    "print(len(detect_non_english_apps(android_clean)))"
   ]
  },
  {
   "cell_type": "markdown",
   "metadata": {},
   "source": [
    "Getting the total number of Google Apps (after removing duplicated rows)"
   ]
  },
  {
   "cell_type": "code",
   "execution_count": 1126,
   "metadata": {},
   "outputs": [
    {
     "name": "stdout",
     "output_type": "stream",
     "text": [
      "9659\n"
     ]
    }
   ],
   "source": [
    "print(len(android_clean))"
   ]
  },
  {
   "cell_type": "markdown",
   "metadata": {},
   "source": [
    "Producing a new Google dataset without Non-English apps"
   ]
  },
  {
   "cell_type": "code",
   "execution_count": 1127,
   "metadata": {},
   "outputs": [],
   "source": [
    "androd_clean_no_english = clean_no_english_apps(android_clean, google_play_no_english_apps)"
   ]
  },
  {
   "cell_type": "markdown",
   "metadata": {},
   "source": [
    "Getting the total number of Google Apps (after removing Non-English rows)"
   ]
  },
  {
   "cell_type": "code",
   "execution_count": 1128,
   "metadata": {},
   "outputs": [
    {
     "name": "stdout",
     "output_type": "stream",
     "text": [
      "9614\n"
     ]
    }
   ],
   "source": [
    "print(len(androd_clean_no_english))"
   ]
  },
  {
   "cell_type": "markdown",
   "metadata": {},
   "source": [
    "Getting the total number of Apple Apps (after removing duplicated rows)"
   ]
  },
  {
   "cell_type": "code",
   "execution_count": 1129,
   "metadata": {},
   "outputs": [
    {
     "name": "stdout",
     "output_type": "stream",
     "text": [
      "1014\n"
     ]
    }
   ],
   "source": [
    "print(len(detect_non_english_apps(apple_store_data, brand='Apple')))"
   ]
  },
  {
   "cell_type": "markdown",
   "metadata": {},
   "source": [
    "Getting the total number of Apple Apps (after removing duplicated rows)"
   ]
  },
  {
   "cell_type": "code",
   "execution_count": 1130,
   "metadata": {},
   "outputs": [
    {
     "name": "stdout",
     "output_type": "stream",
     "text": [
      "7198\n"
     ]
    }
   ],
   "source": [
    "print(len(apple_store_data))"
   ]
  },
  {
   "cell_type": "markdown",
   "metadata": {},
   "source": [
    "Producing a new Apple dataset without Non-English apps"
   ]
  },
  {
   "cell_type": "code",
   "execution_count": 1131,
   "metadata": {},
   "outputs": [],
   "source": [
    "apple_store_no_english = clean_no_english_apps(apple_store_data, apple_store_no_english_apps, brand='Apple')"
   ]
  },
  {
   "cell_type": "markdown",
   "metadata": {},
   "source": [
    "Getting the total number of Apple Apps (after removing Non-English rows)"
   ]
  },
  {
   "cell_type": "code",
   "execution_count": 1132,
   "metadata": {},
   "outputs": [
    {
     "name": "stdout",
     "output_type": "stream",
     "text": [
      "6184\n"
     ]
    }
   ],
   "source": [
    "print(len(apple_store_no_english))"
   ]
  },
  {
   "cell_type": "code",
   "execution_count": null,
   "metadata": {},
   "outputs": [],
   "source": []
  },
  {
   "cell_type": "code",
   "execution_count": null,
   "metadata": {},
   "outputs": [],
   "source": []
  },
  {
   "cell_type": "code",
   "execution_count": null,
   "metadata": {},
   "outputs": [],
   "source": []
  }
 ],
 "metadata": {
  "kernelspec": {
   "display_name": "Python 3",
   "language": "python",
   "name": "python3"
  },
  "language_info": {
   "codemirror_mode": {
    "name": "ipython",
    "version": 3
   },
   "file_extension": ".py",
   "mimetype": "text/x-python",
   "name": "python",
   "nbconvert_exporter": "python",
   "pygments_lexer": "ipython3",
   "version": "3.8.2"
  }
 },
 "nbformat": 4,
 "nbformat_minor": 2
}
